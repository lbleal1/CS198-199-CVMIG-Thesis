{
  "nbformat": 4,
  "nbformat_minor": 0,
  "metadata": {
    "colab": {
      "name": "[done]_Mask_RCNN_PyTorch_PennFudan.ipynb",
      "provenance": [],
      "collapsed_sections": [],
      "toc_visible": true
    },
    "kernelspec": {
      "name": "python3",
      "display_name": "Python 3"
    },
    "accelerator": "GPU",
    "widgets": {
      "application/vnd.jupyter.widget-state+json": {
        "3a508724a3934b989bb20fc111f37c4b": {
          "model_module": "@jupyter-widgets/controls",
          "model_name": "HBoxModel",
          "state": {
            "_view_name": "HBoxView",
            "_dom_classes": [],
            "_model_name": "HBoxModel",
            "_view_module": "@jupyter-widgets/controls",
            "_model_module_version": "1.5.0",
            "_view_count": null,
            "_view_module_version": "1.5.0",
            "box_style": "",
            "layout": "IPY_MODEL_5b6083bc5cf94e998d50d17baba80f2e",
            "_model_module": "@jupyter-widgets/controls",
            "children": [
              "IPY_MODEL_0723c2edc5574028970b4fbfced18b9c",
              "IPY_MODEL_f672e47d363245b4827510fafb363743"
            ]
          }
        },
        "5b6083bc5cf94e998d50d17baba80f2e": {
          "model_module": "@jupyter-widgets/base",
          "model_name": "LayoutModel",
          "state": {
            "_view_name": "LayoutView",
            "grid_template_rows": null,
            "right": null,
            "justify_content": null,
            "_view_module": "@jupyter-widgets/base",
            "overflow": null,
            "_model_module_version": "1.2.0",
            "_view_count": null,
            "flex_flow": null,
            "width": null,
            "min_width": null,
            "border": null,
            "align_items": null,
            "bottom": null,
            "_model_module": "@jupyter-widgets/base",
            "top": null,
            "grid_column": null,
            "overflow_y": null,
            "overflow_x": null,
            "grid_auto_flow": null,
            "grid_area": null,
            "grid_template_columns": null,
            "flex": null,
            "_model_name": "LayoutModel",
            "justify_items": null,
            "grid_row": null,
            "max_height": null,
            "align_content": null,
            "visibility": null,
            "align_self": null,
            "height": null,
            "min_height": null,
            "padding": null,
            "grid_auto_rows": null,
            "grid_gap": null,
            "max_width": null,
            "order": null,
            "_view_module_version": "1.2.0",
            "grid_template_areas": null,
            "object_position": null,
            "object_fit": null,
            "grid_auto_columns": null,
            "margin": null,
            "display": null,
            "left": null
          }
        },
        "0723c2edc5574028970b4fbfced18b9c": {
          "model_module": "@jupyter-widgets/controls",
          "model_name": "IntProgressModel",
          "state": {
            "_view_name": "ProgressView",
            "style": "IPY_MODEL_0703b75b8f0a409cba07daa40f448110",
            "_dom_classes": [],
            "description": "100%",
            "_model_name": "IntProgressModel",
            "bar_style": "success",
            "max": 178090079,
            "_view_module": "@jupyter-widgets/controls",
            "_model_module_version": "1.5.0",
            "value": 178090079,
            "_view_count": null,
            "_view_module_version": "1.5.0",
            "orientation": "horizontal",
            "min": 0,
            "description_tooltip": null,
            "_model_module": "@jupyter-widgets/controls",
            "layout": "IPY_MODEL_b3c31e99bda7419980e72ec89c12ca11"
          }
        },
        "f672e47d363245b4827510fafb363743": {
          "model_module": "@jupyter-widgets/controls",
          "model_name": "HTMLModel",
          "state": {
            "_view_name": "HTMLView",
            "style": "IPY_MODEL_e0832cc856ae41d0bceebc0fe52fe07f",
            "_dom_classes": [],
            "description": "",
            "_model_name": "HTMLModel",
            "placeholder": "​",
            "_view_module": "@jupyter-widgets/controls",
            "_model_module_version": "1.5.0",
            "value": " 170M/170M [00:21&lt;00:00, 8.29MB/s]",
            "_view_count": null,
            "_view_module_version": "1.5.0",
            "description_tooltip": null,
            "_model_module": "@jupyter-widgets/controls",
            "layout": "IPY_MODEL_e052171e2dcb4bfc985346d0cec761b5"
          }
        },
        "0703b75b8f0a409cba07daa40f448110": {
          "model_module": "@jupyter-widgets/controls",
          "model_name": "ProgressStyleModel",
          "state": {
            "_view_name": "StyleView",
            "_model_name": "ProgressStyleModel",
            "description_width": "initial",
            "_view_module": "@jupyter-widgets/base",
            "_model_module_version": "1.5.0",
            "_view_count": null,
            "_view_module_version": "1.2.0",
            "bar_color": null,
            "_model_module": "@jupyter-widgets/controls"
          }
        },
        "b3c31e99bda7419980e72ec89c12ca11": {
          "model_module": "@jupyter-widgets/base",
          "model_name": "LayoutModel",
          "state": {
            "_view_name": "LayoutView",
            "grid_template_rows": null,
            "right": null,
            "justify_content": null,
            "_view_module": "@jupyter-widgets/base",
            "overflow": null,
            "_model_module_version": "1.2.0",
            "_view_count": null,
            "flex_flow": null,
            "width": null,
            "min_width": null,
            "border": null,
            "align_items": null,
            "bottom": null,
            "_model_module": "@jupyter-widgets/base",
            "top": null,
            "grid_column": null,
            "overflow_y": null,
            "overflow_x": null,
            "grid_auto_flow": null,
            "grid_area": null,
            "grid_template_columns": null,
            "flex": null,
            "_model_name": "LayoutModel",
            "justify_items": null,
            "grid_row": null,
            "max_height": null,
            "align_content": null,
            "visibility": null,
            "align_self": null,
            "height": null,
            "min_height": null,
            "padding": null,
            "grid_auto_rows": null,
            "grid_gap": null,
            "max_width": null,
            "order": null,
            "_view_module_version": "1.2.0",
            "grid_template_areas": null,
            "object_position": null,
            "object_fit": null,
            "grid_auto_columns": null,
            "margin": null,
            "display": null,
            "left": null
          }
        },
        "e0832cc856ae41d0bceebc0fe52fe07f": {
          "model_module": "@jupyter-widgets/controls",
          "model_name": "DescriptionStyleModel",
          "state": {
            "_view_name": "StyleView",
            "_model_name": "DescriptionStyleModel",
            "description_width": "",
            "_view_module": "@jupyter-widgets/base",
            "_model_module_version": "1.5.0",
            "_view_count": null,
            "_view_module_version": "1.2.0",
            "_model_module": "@jupyter-widgets/controls"
          }
        },
        "e052171e2dcb4bfc985346d0cec761b5": {
          "model_module": "@jupyter-widgets/base",
          "model_name": "LayoutModel",
          "state": {
            "_view_name": "LayoutView",
            "grid_template_rows": null,
            "right": null,
            "justify_content": null,
            "_view_module": "@jupyter-widgets/base",
            "overflow": null,
            "_model_module_version": "1.2.0",
            "_view_count": null,
            "flex_flow": null,
            "width": null,
            "min_width": null,
            "border": null,
            "align_items": null,
            "bottom": null,
            "_model_module": "@jupyter-widgets/base",
            "top": null,
            "grid_column": null,
            "overflow_y": null,
            "overflow_x": null,
            "grid_auto_flow": null,
            "grid_area": null,
            "grid_template_columns": null,
            "flex": null,
            "_model_name": "LayoutModel",
            "justify_items": null,
            "grid_row": null,
            "max_height": null,
            "align_content": null,
            "visibility": null,
            "align_self": null,
            "height": null,
            "min_height": null,
            "padding": null,
            "grid_auto_rows": null,
            "grid_gap": null,
            "max_width": null,
            "order": null,
            "_view_module_version": "1.2.0",
            "grid_template_areas": null,
            "object_position": null,
            "object_fit": null,
            "grid_auto_columns": null,
            "margin": null,
            "display": null,
            "left": null
          }
        }
      }
    }
  },
  "cells": [
    {
      "cell_type": "markdown",
      "metadata": {
        "id": "PBA5y4HW8Re2",
        "colab_type": "text"
      },
      "source": [
        "install `pycocotools`\n",
        "  - this library will be used for computing the evaluation metrics following the COCO metric for intersection over union."
      ]
    },
    {
      "cell_type": "code",
      "metadata": {
        "id": "qAhUi6kE2H7h",
        "colab_type": "code",
        "colab": {
          "base_uri": "https://localhost:8080/",
          "height": 54
        },
        "outputId": "285721cb-c60d-421e-9dce-b2e46b7055fc"
      },
      "source": [
        "from google.colab import drive\n",
        "drive.mount('/content/drive')"
      ],
      "execution_count": 1,
      "outputs": [
        {
          "output_type": "stream",
          "text": [
            "Drive already mounted at /content/drive; to attempt to forcibly remount, call drive.mount(\"/content/drive\", force_remount=True).\n"
          ],
          "name": "stdout"
        }
      ]
    },
    {
      "cell_type": "code",
      "metadata": {
        "id": "ldv78hI98BSd",
        "colab_type": "code",
        "outputId": "980ebcf9-70fe-4293-a9e0-ece16d98862b",
        "colab": {
          "base_uri": "https://localhost:8080/",
          "height": 34
        }
      },
      "source": [
        "!pip install numpy==1.17"
      ],
      "execution_count": 2,
      "outputs": [
        {
          "output_type": "stream",
          "text": [
            "Requirement already satisfied: numpy==1.17 in /usr/local/lib/python3.6/dist-packages (1.17.0)\n"
          ],
          "name": "stdout"
        }
      ]
    },
    {
      "cell_type": "code",
      "metadata": {
        "id": "FgCv2yYD79AH",
        "colab_type": "code",
        "outputId": "9db0f6fd-ebab-4831-d744-a98963231f48",
        "colab": {
          "base_uri": "https://localhost:8080/",
          "height": 1000
        }
      },
      "source": [
        "%%shell\n",
        "\n",
        "# Install pycocotools\n",
        "git clone https://github.com/cocodataset/cocoapi.git\n",
        "cd cocoapi/PythonAPI\n",
        "python setup.py build_ext install"
      ],
      "execution_count": 3,
      "outputs": [
        {
          "output_type": "stream",
          "text": [
            "fatal: destination path 'cocoapi' already exists and is not an empty directory.\n",
            "running build_ext\n",
            "skipping 'pycocotools/_mask.c' Cython extension (up-to-date)\n",
            "running install\n",
            "running bdist_egg\n",
            "running egg_info\n",
            "writing pycocotools.egg-info/PKG-INFO\n",
            "writing dependency_links to pycocotools.egg-info/dependency_links.txt\n",
            "writing requirements to pycocotools.egg-info/requires.txt\n",
            "writing top-level names to pycocotools.egg-info/top_level.txt\n",
            "writing manifest file 'pycocotools.egg-info/SOURCES.txt'\n",
            "installing library code to build/bdist.linux-x86_64/egg\n",
            "running install_lib\n",
            "running build_py\n",
            "creating build/bdist.linux-x86_64/egg\n",
            "creating build/bdist.linux-x86_64/egg/pycocotools\n",
            "copying build/lib.linux-x86_64-3.6/pycocotools/coco.py -> build/bdist.linux-x86_64/egg/pycocotools\n",
            "copying build/lib.linux-x86_64-3.6/pycocotools/cocoeval.py -> build/bdist.linux-x86_64/egg/pycocotools\n",
            "copying build/lib.linux-x86_64-3.6/pycocotools/_mask.cpython-36m-x86_64-linux-gnu.so -> build/bdist.linux-x86_64/egg/pycocotools\n",
            "copying build/lib.linux-x86_64-3.6/pycocotools/mask.py -> build/bdist.linux-x86_64/egg/pycocotools\n",
            "copying build/lib.linux-x86_64-3.6/pycocotools/__init__.py -> build/bdist.linux-x86_64/egg/pycocotools\n",
            "byte-compiling build/bdist.linux-x86_64/egg/pycocotools/coco.py to coco.cpython-36.pyc\n",
            "byte-compiling build/bdist.linux-x86_64/egg/pycocotools/cocoeval.py to cocoeval.cpython-36.pyc\n",
            "byte-compiling build/bdist.linux-x86_64/egg/pycocotools/mask.py to mask.cpython-36.pyc\n",
            "byte-compiling build/bdist.linux-x86_64/egg/pycocotools/__init__.py to __init__.cpython-36.pyc\n",
            "creating stub loader for pycocotools/_mask.cpython-36m-x86_64-linux-gnu.so\n",
            "byte-compiling build/bdist.linux-x86_64/egg/pycocotools/_mask.py to _mask.cpython-36.pyc\n",
            "creating build/bdist.linux-x86_64/egg/EGG-INFO\n",
            "copying pycocotools.egg-info/PKG-INFO -> build/bdist.linux-x86_64/egg/EGG-INFO\n",
            "copying pycocotools.egg-info/SOURCES.txt -> build/bdist.linux-x86_64/egg/EGG-INFO\n",
            "copying pycocotools.egg-info/dependency_links.txt -> build/bdist.linux-x86_64/egg/EGG-INFO\n",
            "copying pycocotools.egg-info/requires.txt -> build/bdist.linux-x86_64/egg/EGG-INFO\n",
            "copying pycocotools.egg-info/top_level.txt -> build/bdist.linux-x86_64/egg/EGG-INFO\n",
            "writing build/bdist.linux-x86_64/egg/EGG-INFO/native_libs.txt\n",
            "zip_safe flag not set; analyzing archive contents...\n",
            "pycocotools.__pycache__._mask.cpython-36: module references __file__\n",
            "creating 'dist/pycocotools-2.0-py3.6-linux-x86_64.egg' and adding 'build/bdist.linux-x86_64/egg' to it\n",
            "removing 'build/bdist.linux-x86_64/egg' (and everything under it)\n",
            "Processing pycocotools-2.0-py3.6-linux-x86_64.egg\n",
            "removing '/usr/local/lib/python3.6/dist-packages/pycocotools-2.0-py3.6-linux-x86_64.egg' (and everything under it)\n",
            "creating /usr/local/lib/python3.6/dist-packages/pycocotools-2.0-py3.6-linux-x86_64.egg\n",
            "Extracting pycocotools-2.0-py3.6-linux-x86_64.egg to /usr/local/lib/python3.6/dist-packages\n",
            "pycocotools 2.0 is already the active version in easy-install.pth\n",
            "\n",
            "Installed /usr/local/lib/python3.6/dist-packages/pycocotools-2.0-py3.6-linux-x86_64.egg\n",
            "Processing dependencies for pycocotools==2.0\n",
            "Searching for matplotlib==3.2.1\n",
            "Best match: matplotlib 3.2.1\n",
            "Adding matplotlib 3.2.1 to easy-install.pth file\n",
            "\n",
            "Using /usr/local/lib/python3.6/dist-packages\n",
            "Searching for Cython==0.29.15\n",
            "Best match: Cython 0.29.15\n",
            "Adding Cython 0.29.15 to easy-install.pth file\n",
            "Installing cygdb script to /usr/local/bin\n",
            "Installing cython script to /usr/local/bin\n",
            "Installing cythonize script to /usr/local/bin\n",
            "\n",
            "Using /usr/local/lib/python3.6/dist-packages\n",
            "Searching for setuptools==46.0.0\n",
            "Best match: setuptools 46.0.0\n",
            "Adding setuptools 46.0.0 to easy-install.pth file\n",
            "Installing easy_install script to /usr/local/bin\n",
            "Installing easy_install-3.8 script to /usr/local/bin\n",
            "\n",
            "Using /usr/local/lib/python3.6/dist-packages\n",
            "Searching for kiwisolver==1.1.0\n",
            "Best match: kiwisolver 1.1.0\n",
            "Adding kiwisolver 1.1.0 to easy-install.pth file\n",
            "\n",
            "Using /usr/local/lib/python3.6/dist-packages\n",
            "Searching for cycler==0.10.0\n",
            "Best match: cycler 0.10.0\n",
            "Adding cycler 0.10.0 to easy-install.pth file\n",
            "\n",
            "Using /usr/local/lib/python3.6/dist-packages\n",
            "Searching for pyparsing==2.4.6\n",
            "Best match: pyparsing 2.4.6\n",
            "Adding pyparsing 2.4.6 to easy-install.pth file\n",
            "\n",
            "Using /usr/local/lib/python3.6/dist-packages\n",
            "Searching for numpy==1.17.0\n",
            "Best match: numpy 1.17.0\n",
            "Adding numpy 1.17.0 to easy-install.pth file\n",
            "Installing f2py script to /usr/local/bin\n",
            "Installing f2py3 script to /usr/local/bin\n",
            "Installing f2py3.6 script to /usr/local/bin\n",
            "\n",
            "Using /usr/local/lib/python3.6/dist-packages\n",
            "Searching for python-dateutil==2.8.1\n",
            "Best match: python-dateutil 2.8.1\n",
            "Adding python-dateutil 2.8.1 to easy-install.pth file\n",
            "\n",
            "Using /usr/local/lib/python3.6/dist-packages\n",
            "Searching for six==1.12.0\n",
            "Best match: six 1.12.0\n",
            "Adding six 1.12.0 to easy-install.pth file\n",
            "\n",
            "Using /usr/local/lib/python3.6/dist-packages\n",
            "Finished processing dependencies for pycocotools==2.0\n"
          ],
          "name": "stdout"
        },
        {
          "output_type": "execute_result",
          "data": {
            "text/plain": [
              ""
            ]
          },
          "metadata": {
            "tags": []
          },
          "execution_count": 3
        }
      ]
    },
    {
      "cell_type": "markdown",
      "metadata": {
        "id": "atCoMhfQ8p9Y",
        "colab_type": "text"
      },
      "source": [
        "# Writing the Custom Dataset - Penn-Fudan"
      ]
    },
    {
      "cell_type": "code",
      "metadata": {
        "id": "FSa9nBR69uP-",
        "colab_type": "code",
        "colab": {}
      },
      "source": [
        "# writing torch.utils.data.Dataset\n",
        "\n",
        "import os\n",
        "import numpy as np\n",
        "import torch\n",
        "import torch.utils.data\n",
        "from PIL import Image\n",
        "\n",
        "\n",
        "class CustomDataset(torch.utils.data.Dataset):\n",
        "    def __init__(self, root, transforms=None):\n",
        "        self.root = root\n",
        "        self.transforms = transforms\n",
        "        # load all image files, sorting them to\n",
        "        # ensure that they are aligned\n",
        "        self.imgs = list(sorted(os.listdir(os.path.join(root, \"PNGImages\"))))\n",
        "        self.masks = list(sorted(os.listdir(os.path.join(root, \"PedMasks\"))))\n",
        "\n",
        "    def __getitem__(self, idx):\n",
        "        # load images and masks\n",
        "        img_path = os.path.join(self.root, \"PNGImages\", self.imgs[idx])\n",
        "        mask_path = os.path.join(self.root, \"PedMasks\", self.masks[idx])\n",
        "        img = Image.open(img_path).convert(\"RGB\")\n",
        "        # note that we haven't converted the mask to RGB,\n",
        "        # because each color corresponds to a different instance\n",
        "        # with 0 being background\n",
        "        mask = Image.open(mask_path)\n",
        "\n",
        "        mask = np.array(mask)\n",
        "        # instances are encoded as different colors\n",
        "        obj_ids = np.unique(mask)\n",
        "        # first id is the background, so remove it\n",
        "        obj_ids = obj_ids[1:]\n",
        "\n",
        "        # split the color-encoded mask into a set\n",
        "        # of binary masks\n",
        "        masks = mask == obj_ids[:, None, None]\n",
        "\n",
        "        # get bounding box coordinates for each mask\n",
        "        num_objs = len(obj_ids)\n",
        "        boxes = []\n",
        "        for i in range(num_objs):\n",
        "            pos = np.where(masks[i])\n",
        "            xmin = np.min(pos[1])\n",
        "            xmax = np.max(pos[1])\n",
        "            ymin = np.min(pos[0])\n",
        "            ymax = np.max(pos[0])\n",
        "            boxes.append([xmin, ymin, xmax, ymax])\n",
        "\n",
        "        boxes = torch.as_tensor(boxes, dtype=torch.float32)\n",
        "        # there is only one class\n",
        "        labels = torch.ones((num_objs,), dtype=torch.int64)\n",
        "        masks = torch.as_tensor(masks, dtype=torch.uint8)\n",
        "\n",
        "        image_id = torch.tensor([idx])\n",
        "        area = (boxes[:, 3] - boxes[:, 1]) * (boxes[:, 2] - boxes[:, 0])\n",
        "        # suppose all instances are not crowd\n",
        "        iscrowd = torch.zeros((num_objs,), dtype=torch.int64)\n",
        "\n",
        "        target = {}\n",
        "        target[\"boxes\"] = boxes\n",
        "        target[\"labels\"] = labels\n",
        "        target[\"masks\"] = masks\n",
        "        target[\"image_id\"] = image_id\n",
        "        target[\"area\"] = area\n",
        "        target[\"iscrowd\"] = iscrowd\n",
        "\n",
        "        if self.transforms is not None:\n",
        "            img, target = self.transforms(img, target)\n",
        "\n",
        "        return img, target\n",
        "\n",
        "    def __len__(self):\n",
        "        return len(self.imgs)"
      ],
      "execution_count": 0,
      "outputs": []
    },
    {
      "cell_type": "code",
      "metadata": {
        "id": "7J5NI_zDCB6m",
        "colab_type": "code",
        "colab": {}
      },
      "source": [
        "dataset = CustomDataset('/content/drive/Shared drives/CS 198 & CS199 : Fault-line Assessment/SecondSem/Road Extraction/PennFudanPed')"
      ],
      "execution_count": 0,
      "outputs": []
    },
    {
      "cell_type": "markdown",
      "metadata": {
        "id": "exXHPfD2CIe0",
        "colab_type": "text"
      },
      "source": [
        "# Model - Instance Segmentation model for PennFudan Dataset"
      ]
    },
    {
      "cell_type": "markdown",
      "metadata": {
        "id": "jUXZJKWADzV4",
        "colab_type": "text"
      },
      "source": [
        "make model be ready to be trained and evaluated on our custom dataset"
      ]
    },
    {
      "cell_type": "code",
      "metadata": {
        "id": "wC3JGkCLCJxp",
        "colab_type": "code",
        "colab": {}
      },
      "source": [
        "import torchvision\n",
        "from torchvision.models.detection.faster_rcnn import FastRCNNPredictor\n",
        "from torchvision.models.detection.mask_rcnn import MaskRCNNPredictor\n",
        "\n",
        "      \n",
        "def get_instance_segmentation_model(num_classes):\n",
        "    # load an instance segmentation model pre-trained on COCO\n",
        "    model = torchvision.models.detection.maskrcnn_resnet50_fpn(pretrained=True)\n",
        "\n",
        "    # get the number of input features for the classifier\n",
        "    in_features = model.roi_heads.box_predictor.cls_score.in_features\n",
        "    # replace the pre-trained head with a new one\n",
        "    model.roi_heads.box_predictor = FastRCNNPredictor(in_features, num_classes)\n",
        "\n",
        "    # now get the number of input features for the mask classifier\n",
        "    in_features_mask = model.roi_heads.mask_predictor.conv5_mask.in_channels\n",
        "    hidden_layer = 256\n",
        "    # and replace the mask predictor with a new one\n",
        "    model.roi_heads.mask_predictor = MaskRCNNPredictor(in_features_mask,\n",
        "                                                       hidden_layer,\n",
        "                                                       num_classes)\n",
        "\n",
        "    return model"
      ],
      "execution_count": 0,
      "outputs": []
    },
    {
      "cell_type": "markdown",
      "metadata": {
        "id": "WpcVAp6kPm06",
        "colab_type": "text"
      },
      "source": [
        "# Finished Functions. Run!"
      ]
    },
    {
      "cell_type": "markdown",
      "metadata": {
        "id": "TYj17vh-Gdiw",
        "colab_type": "text"
      },
      "source": [
        "Instantiation\n",
        "\n",
        " helper functions to simplify training and evaluating detection models"
      ]
    },
    {
      "cell_type": "code",
      "metadata": {
        "id": "pu2sKRm_D12U",
        "colab_type": "code",
        "outputId": "a517b8f6-8f77-48f9-d263-8057017620ab",
        "colab": {
          "base_uri": "https://localhost:8080/",
          "height": 340
        }
      },
      "source": [
        "%%shell\n",
        "\n",
        "# Download TorchVision repo to use some files from\n",
        "# references/detection\n",
        "git clone https://github.com/pytorch/vision.git\n",
        "cd vision\n",
        "git checkout v0.3.0\n",
        "\n",
        "cp references/detection/utils.py ../\n",
        "cp references/detection/transforms.py ../\n",
        "cp references/detection/coco_eval.py ../\n",
        "cp references/detection/engine.py ../\n",
        "cp references/detection/coco_utils.py ../"
      ],
      "execution_count": 7,
      "outputs": [
        {
          "output_type": "stream",
          "text": [
            "Cloning into 'vision'...\n",
            "remote: Enumerating objects: 2, done.\u001b[K\n",
            "remote: Counting objects: 100% (2/2), done.\u001b[K\n",
            "remote: Compressing objects: 100% (2/2), done.\u001b[K\n",
            "remote: Total 7291 (delta 0), reused 2 (delta 0), pack-reused 7289\u001b[K\n",
            "Receiving objects: 100% (7291/7291), 9.93 MiB | 6.33 MiB/s, done.\n",
            "Resolving deltas: 100% (4931/4931), done.\n",
            "Note: checking out 'v0.3.0'.\n",
            "\n",
            "You are in 'detached HEAD' state. You can look around, make experimental\n",
            "changes and commit them, and you can discard any commits you make in this\n",
            "state without impacting any branches by performing another checkout.\n",
            "\n",
            "If you want to create a new branch to retain commits you create, you may\n",
            "do so (now or later) by using -b with the checkout command again. Example:\n",
            "\n",
            "  git checkout -b <new-branch-name>\n",
            "\n",
            "HEAD is now at be37608 version check against PyTorch's CUDA version\n"
          ],
          "name": "stdout"
        },
        {
          "output_type": "execute_result",
          "data": {
            "text/plain": [
              ""
            ]
          },
          "metadata": {
            "tags": []
          },
          "execution_count": 7
        }
      ]
    },
    {
      "cell_type": "markdown",
      "metadata": {
        "id": "Kajtru3UOO26",
        "colab_type": "text"
      },
      "source": [
        "additional helper functions for data augmentation/transformation\n",
        "- leverages the functions in references/detection above\n",
        "\n",
        "Note:\n",
        "we do not need to add a mean/std normalization nor image rescaling in the data transforms, as those are handled internally by the Mask R-CNN model."
      ]
    },
    {
      "cell_type": "code",
      "metadata": {
        "id": "Xqom8-ZuOZBW",
        "colab_type": "code",
        "colab": {}
      },
      "source": [
        "from engine import train_one_epoch, evaluate\n",
        "import utils\n",
        "import transforms as T\n",
        "\n",
        "\n",
        "def get_transform(train):\n",
        "    transforms = []\n",
        "    # converts the image, a PIL image, into a PyTorch Tensor\n",
        "    transforms.append(T.ToTensor())\n",
        "    if train:\n",
        "        # during training, randomly flip the training images\n",
        "        # and ground-truth for data augmentation\n",
        "        transforms.append(T.RandomHorizontalFlip(0.5))\n",
        "    return T.Compose(transforms)"
      ],
      "execution_count": 0,
      "outputs": []
    },
    {
      "cell_type": "markdown",
      "metadata": {
        "id": "bJlzLphtOhVA",
        "colab_type": "text"
      },
      "source": [
        "Putting Everything Together"
      ]
    },
    {
      "cell_type": "code",
      "metadata": {
        "id": "clowhQsvONX2",
        "colab_type": "code",
        "outputId": "8c33f7cf-e3a7-4885-bf0e-ba269150a3ed",
        "colab": {
          "base_uri": "https://localhost:8080/",
          "height": 102
        }
      },
      "source": [
        "# instantiate - dataset class and the data transforms\n",
        "\n",
        "# use our dataset and defined transformations\n",
        "dataset = CustomDataset('/content/drive/Shared drives/CS 198 & CS199 : Fault-line Assessment/SecondSem/Road Extraction/PennFudanPed', get_transform(train=True))\n",
        "dataset_test = CustomDataset('/content/drive/Shared drives/CS 198 & CS199 : Fault-line Assessment/SecondSem/Road Extraction/PennFudanPed', get_transform(train=False))\n",
        "print(len(dataset))\n",
        "print(len(dataset_test))\n",
        "\n",
        "# set percentage of split\n",
        "train_per = 0.7\n",
        "valid_per = 0.2\n",
        "test_per  = 0.1\n",
        "\n",
        "train_end = int(train_per*len(dataset)) + 1\n",
        "valid_end = train_end + int(valid_per*len(dataset))\n",
        "test_end  = valid_end + int(test_per*len(dataset))\n",
        "\n",
        "# split the dataset in train and test set\n",
        "torch.manual_seed(1)\n",
        "indices = torch.randperm(len(dataset)).tolist()\n",
        "dataset = torch.utils.data.Subset(dataset, indices[:train_end])\n",
        "dataset_valid = torch.utils.data.Subset(dataset_test, indices[train_end:valid_end])\n",
        "dataset_test = torch.utils.data.Subset(dataset_test, indices[valid_end:])\n",
        "\n",
        "print(len(dataset))\n",
        "print(len(dataset_valid))\n",
        "print(len(dataset_test))\n",
        "\n",
        "# define training and validation data loaders\n",
        "data_loader = torch.utils.data.DataLoader(\n",
        "    dataset, batch_size=2, shuffle=True, num_workers=4,\n",
        "    collate_fn=utils.collate_fn)\n",
        "\n",
        "data_loader_valid = torch.utils.data.DataLoader(\n",
        "    dataset_valid, batch_size=1, shuffle=False, num_workers=4,\n",
        "    collate_fn=utils.collate_fn)\n",
        "\n",
        "data_loader_test = torch.utils.data.DataLoader(\n",
        "    dataset_test, batch_size=1, shuffle=False, num_workers=4,\n",
        "    collate_fn=utils.collate_fn)"
      ],
      "execution_count": 9,
      "outputs": [
        {
          "output_type": "stream",
          "text": [
            "170\n",
            "170\n",
            "119\n",
            "34\n",
            "17\n"
          ],
          "name": "stdout"
        }
      ]
    },
    {
      "cell_type": "code",
      "metadata": {
        "id": "arPkpgirOnj5",
        "colab_type": "code",
        "colab": {
          "base_uri": "https://localhost:8080/",
          "height": 103,
          "referenced_widgets": [
            "3a508724a3934b989bb20fc111f37c4b",
            "5b6083bc5cf94e998d50d17baba80f2e",
            "0723c2edc5574028970b4fbfced18b9c",
            "f672e47d363245b4827510fafb363743",
            "0703b75b8f0a409cba07daa40f448110",
            "b3c31e99bda7419980e72ec89c12ca11",
            "e0832cc856ae41d0bceebc0fe52fe07f",
            "e052171e2dcb4bfc985346d0cec761b5"
          ]
        },
        "outputId": "00fb39ee-74ff-4ae9-f146-860ef24b8ff0"
      },
      "source": [
        "#instantiate - model and the optimizer\n",
        "\n",
        "device = torch.device('cuda') if torch.cuda.is_available() else torch.device('cpu')\n",
        "\n",
        "# our dataset has two classes only - background and person\n",
        "num_classes = 2\n",
        "\n",
        "# get the model using our helper function\n",
        "model = get_instance_segmentation_model(num_classes)\n",
        "# move model to the right device\n",
        "model.to(device)\n",
        "\n",
        "# construct an optimizer\n",
        "params = [p for p in model.parameters() if p.requires_grad]\n",
        "optimizer = torch.optim.SGD(params, lr=0.005,\n",
        "                            momentum=0.9, weight_decay=0.0005)\n",
        "\n",
        "# and a learning rate scheduler which decreases the learning rate by\n",
        "# 10x every 3 epochs\n",
        "lr_scheduler = torch.optim.lr_scheduler.StepLR(optimizer,\n",
        "                                               step_size=3,\n",
        "                                               gamma=0.1)"
      ],
      "execution_count": 10,
      "outputs": [
        {
          "output_type": "stream",
          "text": [
            "Downloading: \"https://download.pytorch.org/models/maskrcnn_resnet50_fpn_coco-bf2d0c1e.pth\" to /root/.cache/torch/checkpoints/maskrcnn_resnet50_fpn_coco-bf2d0c1e.pth\n"
          ],
          "name": "stderr"
        },
        {
          "output_type": "display_data",
          "data": {
            "application/vnd.jupyter.widget-view+json": {
              "model_id": "3a508724a3934b989bb20fc111f37c4b",
              "version_minor": 0,
              "version_major": 2
            },
            "text/plain": [
              "HBox(children=(IntProgress(value=0, max=178090079), HTML(value='')))"
            ]
          },
          "metadata": {
            "tags": []
          }
        },
        {
          "output_type": "stream",
          "text": [
            "\n"
          ],
          "name": "stdout"
        }
      ]
    },
    {
      "cell_type": "markdown",
      "metadata": {
        "id": "bBupbV8nPxV6",
        "colab_type": "text"
      },
      "source": [
        "Train model"
      ]
    },
    {
      "cell_type": "code",
      "metadata": {
        "id": "L-TzGD03PiRC",
        "colab_type": "code",
        "outputId": "23b9e4f7-5a41-463e-89b3-da256de843ac",
        "colab": {
          "base_uri": "https://localhost:8080/",
          "height": 1000
        }
      },
      "source": [
        "# let's train it for 10 epochs\n",
        "num_epochs = 10\n",
        "\n",
        "for epoch in range(num_epochs):\n",
        "    # train for one epoch, printing every 10 iterations\n",
        "    train_one_epoch(model, optimizer, data_loader, device, epoch, print_freq=10)\n",
        "    # update the learning rate\n",
        "    lr_scheduler.step()\n",
        "    # evaluate on the test dataset\n",
        "    evaluate(model, data_loader_valid, device=device)"
      ],
      "execution_count": 11,
      "outputs": [
        {
          "output_type": "stream",
          "text": [
            "Epoch: [0]  [ 0/60]  eta: 0:04:25  lr: 0.000090  loss: 4.4839 (4.4839)  loss_classifier: 0.7029 (0.7029)  loss_box_reg: 0.2665 (0.2665)  loss_mask: 3.4846 (3.4846)  loss_objectness: 0.0106 (0.0106)  loss_rpn_box_reg: 0.0194 (0.0194)  time: 4.4196  data: 3.0488  max mem: 2710\n",
            "Epoch: [0]  [10/60]  eta: 0:00:55  lr: 0.000936  loss: 1.6075 (2.0914)  loss_classifier: 0.4538 (0.4573)  loss_box_reg: 0.1572 (0.1596)  loss_mask: 0.9859 (1.4405)  loss_objectness: 0.0195 (0.0215)  loss_rpn_box_reg: 0.0114 (0.0125)  time: 1.1074  data: 0.6427  max mem: 2978\n",
            "Epoch: [0]  [20/60]  eta: 0:00:35  lr: 0.001783  loss: 0.7829 (1.4251)  loss_classifier: 0.2750 (0.3290)  loss_box_reg: 0.1306 (0.1601)  loss_mask: 0.4456 (0.9001)  loss_objectness: 0.0195 (0.0210)  loss_rpn_box_reg: 0.0114 (0.0149)  time: 0.7160  data: 0.3592  max mem: 2978\n",
            "Epoch: [0]  [30/60]  eta: 0:00:28  lr: 0.002629  loss: 0.5370 (1.1282)  loss_classifier: 0.1196 (0.2535)  loss_box_reg: 0.1507 (0.1608)  loss_mask: 0.2340 (0.6801)  loss_objectness: 0.0122 (0.0177)  loss_rpn_box_reg: 0.0141 (0.0161)  time: 0.8809  data: 0.5280  max mem: 2978\n",
            "Epoch: [0]  [40/60]  eta: 0:00:17  lr: 0.003476  loss: 0.4002 (0.9437)  loss_classifier: 0.0728 (0.2073)  loss_box_reg: 0.1282 (0.1492)  loss_mask: 0.1721 (0.5580)  loss_objectness: 0.0047 (0.0146)  loss_rpn_box_reg: 0.0128 (0.0146)  time: 0.8477  data: 0.4887  max mem: 2978\n",
            "Epoch: [0]  [50/60]  eta: 0:00:08  lr: 0.004323  loss: 0.3619 (0.8313)  loss_classifier: 0.0600 (0.1797)  loss_box_reg: 0.0986 (0.1379)  loss_mask: 0.1721 (0.4868)  loss_objectness: 0.0023 (0.0123)  loss_rpn_box_reg: 0.0116 (0.0147)  time: 0.6420  data: 0.2975  max mem: 2978\n",
            "Epoch: [0]  [59/60]  eta: 0:00:00  lr: 0.005000  loss: 0.2707 (0.7417)  loss_classifier: 0.0467 (0.1582)  loss_box_reg: 0.0384 (0.1224)  loss_mask: 0.1717 (0.4369)  loss_objectness: 0.0017 (0.0109)  loss_rpn_box_reg: 0.0060 (0.0133)  time: 0.6310  data: 0.3036  max mem: 2978\n",
            "Epoch: [0] Total time: 0:00:48 (0.8000 s / it)\n",
            "creating index...\n",
            "index created!\n",
            "Test:  [ 0/34]  eta: 0:00:15  model_time: 0.1418 (0.1418)  evaluator_time: 0.0495 (0.0495)  time: 0.4473  data: 0.2519  max mem: 2978\n",
            "Test:  [33/34]  eta: 0:00:00  model_time: 0.0735 (0.0832)  evaluator_time: 0.0049 (0.0145)  time: 0.0999  data: 0.0028  max mem: 2978\n",
            "Test: Total time: 0:00:03 (0.1109 s / it)\n",
            "Averaged stats: model_time: 0.0735 (0.0832)  evaluator_time: 0.0049 (0.0145)\n",
            "Accumulating evaluation results...\n",
            "DONE (t=0.01s).\n",
            "Accumulating evaluation results...\n",
            "DONE (t=0.01s).\n",
            "IoU metric: bbox\n",
            " Average Precision  (AP) @[ IoU=0.50:0.95 | area=   all | maxDets=100 ] = 0.657\n",
            " Average Precision  (AP) @[ IoU=0.50      | area=   all | maxDets=100 ] = 0.974\n",
            " Average Precision  (AP) @[ IoU=0.75      | area=   all | maxDets=100 ] = 0.852\n",
            " Average Precision  (AP) @[ IoU=0.50:0.95 | area= small | maxDets=100 ] = -1.000\n",
            " Average Precision  (AP) @[ IoU=0.50:0.95 | area=medium | maxDets=100 ] = 0.375\n",
            " Average Precision  (AP) @[ IoU=0.50:0.95 | area= large | maxDets=100 ] = 0.680\n",
            " Average Recall     (AR) @[ IoU=0.50:0.95 | area=   all | maxDets=  1 ] = 0.285\n",
            " Average Recall     (AR) @[ IoU=0.50:0.95 | area=   all | maxDets= 10 ] = 0.716\n",
            " Average Recall     (AR) @[ IoU=0.50:0.95 | area=   all | maxDets=100 ] = 0.716\n",
            " Average Recall     (AR) @[ IoU=0.50:0.95 | area= small | maxDets=100 ] = -1.000\n",
            " Average Recall     (AR) @[ IoU=0.50:0.95 | area=medium | maxDets=100 ] = 0.614\n",
            " Average Recall     (AR) @[ IoU=0.50:0.95 | area= large | maxDets=100 ] = 0.725\n",
            "IoU metric: segm\n",
            " Average Precision  (AP) @[ IoU=0.50:0.95 | area=   all | maxDets=100 ] = 0.695\n",
            " Average Precision  (AP) @[ IoU=0.50      | area=   all | maxDets=100 ] = 0.974\n",
            " Average Precision  (AP) @[ IoU=0.75      | area=   all | maxDets=100 ] = 0.903\n",
            " Average Precision  (AP) @[ IoU=0.50:0.95 | area= small | maxDets=100 ] = -1.000\n",
            " Average Precision  (AP) @[ IoU=0.50:0.95 | area=medium | maxDets=100 ] = 0.467\n",
            " Average Precision  (AP) @[ IoU=0.50:0.95 | area= large | maxDets=100 ] = 0.718\n",
            " Average Recall     (AR) @[ IoU=0.50:0.95 | area=   all | maxDets=  1 ] = 0.287\n",
            " Average Recall     (AR) @[ IoU=0.50:0.95 | area=   all | maxDets= 10 ] = 0.744\n",
            " Average Recall     (AR) @[ IoU=0.50:0.95 | area=   all | maxDets=100 ] = 0.748\n",
            " Average Recall     (AR) @[ IoU=0.50:0.95 | area= small | maxDets=100 ] = -1.000\n",
            " Average Recall     (AR) @[ IoU=0.50:0.95 | area=medium | maxDets=100 ] = 0.686\n",
            " Average Recall     (AR) @[ IoU=0.50:0.95 | area= large | maxDets=100 ] = 0.754\n",
            "Epoch: [1]  [ 0/60]  eta: 0:00:44  lr: 0.005000  loss: 0.3087 (0.3087)  loss_classifier: 0.0775 (0.0775)  loss_box_reg: 0.0350 (0.0350)  loss_mask: 0.1680 (0.1680)  loss_objectness: 0.0189 (0.0189)  loss_rpn_box_reg: 0.0094 (0.0094)  time: 0.7444  data: 0.2941  max mem: 2978\n",
            "Epoch: [1]  [10/60]  eta: 0:00:19  lr: 0.005000  loss: 0.2508 (0.2590)  loss_classifier: 0.0380 (0.0423)  loss_box_reg: 0.0365 (0.0432)  loss_mask: 0.1565 (0.1567)  loss_objectness: 0.0010 (0.0032)  loss_rpn_box_reg: 0.0135 (0.0136)  time: 0.3957  data: 0.0311  max mem: 2978\n",
            "Epoch: [1]  [20/60]  eta: 0:00:15  lr: 0.005000  loss: 0.2400 (0.2603)  loss_classifier: 0.0369 (0.0449)  loss_box_reg: 0.0349 (0.0424)  loss_mask: 0.1489 (0.1564)  loss_objectness: 0.0010 (0.0028)  loss_rpn_box_reg: 0.0105 (0.0138)  time: 0.3615  data: 0.0051  max mem: 2978\n",
            "Epoch: [1]  [30/60]  eta: 0:00:10  lr: 0.005000  loss: 0.2018 (0.2425)  loss_classifier: 0.0352 (0.0419)  loss_box_reg: 0.0227 (0.0361)  loss_mask: 0.1375 (0.1498)  loss_objectness: 0.0007 (0.0023)  loss_rpn_box_reg: 0.0079 (0.0125)  time: 0.3506  data: 0.0054  max mem: 2978\n",
            "Epoch: [1]  [40/60]  eta: 0:00:07  lr: 0.005000  loss: 0.2203 (0.2487)  loss_classifier: 0.0358 (0.0423)  loss_box_reg: 0.0253 (0.0359)  loss_mask: 0.1429 (0.1557)  loss_objectness: 0.0009 (0.0024)  loss_rpn_box_reg: 0.0095 (0.0124)  time: 0.3635  data: 0.0058  max mem: 3019\n",
            "Epoch: [1]  [50/60]  eta: 0:00:03  lr: 0.005000  loss: 0.2606 (0.2472)  loss_classifier: 0.0380 (0.0416)  loss_box_reg: 0.0394 (0.0356)  loss_mask: 0.1489 (0.1554)  loss_objectness: 0.0011 (0.0021)  loss_rpn_box_reg: 0.0104 (0.0126)  time: 0.3840  data: 0.0060  max mem: 3135\n",
            "Epoch: [1]  [59/60]  eta: 0:00:00  lr: 0.005000  loss: 0.2394 (0.2411)  loss_classifier: 0.0401 (0.0411)  loss_box_reg: 0.0224 (0.0331)  loss_mask: 0.1345 (0.1525)  loss_objectness: 0.0007 (0.0020)  loss_rpn_box_reg: 0.0090 (0.0124)  time: 0.3595  data: 0.0057  max mem: 3135\n",
            "Epoch: [1] Total time: 0:00:22 (0.3681 s / it)\n",
            "creating index...\n",
            "index created!\n",
            "Test:  [ 0/34]  eta: 0:00:11  model_time: 0.0910 (0.0910)  evaluator_time: 0.0116 (0.0116)  time: 0.3503  data: 0.2447  max mem: 3135\n",
            "Test:  [33/34]  eta: 0:00:00  model_time: 0.0701 (0.0742)  evaluator_time: 0.0033 (0.0064)  time: 0.0842  data: 0.0029  max mem: 3135\n",
            "Test: Total time: 0:00:03 (0.0944 s / it)\n",
            "Averaged stats: model_time: 0.0701 (0.0742)  evaluator_time: 0.0033 (0.0064)\n",
            "Accumulating evaluation results...\n",
            "DONE (t=0.01s).\n",
            "Accumulating evaluation results...\n",
            "DONE (t=0.01s).\n",
            "IoU metric: bbox\n",
            " Average Precision  (AP) @[ IoU=0.50:0.95 | area=   all | maxDets=100 ] = 0.666\n",
            " Average Precision  (AP) @[ IoU=0.50      | area=   all | maxDets=100 ] = 0.986\n",
            " Average Precision  (AP) @[ IoU=0.75      | area=   all | maxDets=100 ] = 0.826\n",
            " Average Precision  (AP) @[ IoU=0.50:0.95 | area= small | maxDets=100 ] = -1.000\n",
            " Average Precision  (AP) @[ IoU=0.50:0.95 | area=medium | maxDets=100 ] = 0.481\n",
            " Average Precision  (AP) @[ IoU=0.50:0.95 | area= large | maxDets=100 ] = 0.673\n",
            " Average Recall     (AR) @[ IoU=0.50:0.95 | area=   all | maxDets=  1 ] = 0.303\n",
            " Average Recall     (AR) @[ IoU=0.50:0.95 | area=   all | maxDets= 10 ] = 0.726\n",
            " Average Recall     (AR) @[ IoU=0.50:0.95 | area=   all | maxDets=100 ] = 0.726\n",
            " Average Recall     (AR) @[ IoU=0.50:0.95 | area= small | maxDets=100 ] = -1.000\n",
            " Average Recall     (AR) @[ IoU=0.50:0.95 | area=medium | maxDets=100 ] = 0.700\n",
            " Average Recall     (AR) @[ IoU=0.50:0.95 | area= large | maxDets=100 ] = 0.729\n",
            "IoU metric: segm\n",
            " Average Precision  (AP) @[ IoU=0.50:0.95 | area=   all | maxDets=100 ] = 0.724\n",
            " Average Precision  (AP) @[ IoU=0.50      | area=   all | maxDets=100 ] = 0.986\n",
            " Average Precision  (AP) @[ IoU=0.75      | area=   all | maxDets=100 ] = 0.891\n",
            " Average Precision  (AP) @[ IoU=0.50:0.95 | area= small | maxDets=100 ] = -1.000\n",
            " Average Precision  (AP) @[ IoU=0.50:0.95 | area=medium | maxDets=100 ] = 0.511\n",
            " Average Precision  (AP) @[ IoU=0.50:0.95 | area= large | maxDets=100 ] = 0.731\n",
            " Average Recall     (AR) @[ IoU=0.50:0.95 | area=   all | maxDets=  1 ] = 0.309\n",
            " Average Recall     (AR) @[ IoU=0.50:0.95 | area=   all | maxDets= 10 ] = 0.775\n",
            " Average Recall     (AR) @[ IoU=0.50:0.95 | area=   all | maxDets=100 ] = 0.775\n",
            " Average Recall     (AR) @[ IoU=0.50:0.95 | area= small | maxDets=100 ] = -1.000\n",
            " Average Recall     (AR) @[ IoU=0.50:0.95 | area=medium | maxDets=100 ] = 0.729\n",
            " Average Recall     (AR) @[ IoU=0.50:0.95 | area= large | maxDets=100 ] = 0.779\n",
            "Epoch: [2]  [ 0/60]  eta: 0:00:41  lr: 0.005000  loss: 0.1470 (0.1470)  loss_classifier: 0.0205 (0.0205)  loss_box_reg: 0.0185 (0.0185)  loss_mask: 0.0942 (0.0942)  loss_objectness: 0.0002 (0.0002)  loss_rpn_box_reg: 0.0136 (0.0136)  time: 0.6968  data: 0.3437  max mem: 3135\n",
            "Epoch: [2]  [10/60]  eta: 0:00:19  lr: 0.005000  loss: 0.1863 (0.2079)  loss_classifier: 0.0260 (0.0323)  loss_box_reg: 0.0181 (0.0224)  loss_mask: 0.1356 (0.1417)  loss_objectness: 0.0008 (0.0011)  loss_rpn_box_reg: 0.0074 (0.0103)  time: 0.3980  data: 0.0354  max mem: 3135\n",
            "Epoch: [2]  [20/60]  eta: 0:00:14  lr: 0.005000  loss: 0.1863 (0.2011)  loss_classifier: 0.0260 (0.0313)  loss_box_reg: 0.0172 (0.0219)  loss_mask: 0.1250 (0.1361)  loss_objectness: 0.0007 (0.0010)  loss_rpn_box_reg: 0.0083 (0.0109)  time: 0.3584  data: 0.0051  max mem: 3135\n",
            "Epoch: [2]  [30/60]  eta: 0:00:11  lr: 0.005000  loss: 0.1642 (0.1919)  loss_classifier: 0.0257 (0.0298)  loss_box_reg: 0.0113 (0.0188)  loss_mask: 0.1251 (0.1327)  loss_objectness: 0.0006 (0.0011)  loss_rpn_box_reg: 0.0060 (0.0095)  time: 0.3532  data: 0.0058  max mem: 3136\n",
            "Epoch: [2]  [40/60]  eta: 0:00:07  lr: 0.005000  loss: 0.1701 (0.1979)  loss_classifier: 0.0274 (0.0334)  loss_box_reg: 0.0113 (0.0196)  loss_mask: 0.1294 (0.1336)  loss_objectness: 0.0004 (0.0011)  loss_rpn_box_reg: 0.0060 (0.0101)  time: 0.3655  data: 0.0057  max mem: 3136\n",
            "Epoch: [2]  [50/60]  eta: 0:00:03  lr: 0.005000  loss: 0.2119 (0.2032)  loss_classifier: 0.0411 (0.0352)  loss_box_reg: 0.0208 (0.0210)  loss_mask: 0.1403 (0.1355)  loss_objectness: 0.0004 (0.0014)  loss_rpn_box_reg: 0.0079 (0.0102)  time: 0.3689  data: 0.0056  max mem: 3136\n",
            "Epoch: [2]  [59/60]  eta: 0:00:00  lr: 0.005000  loss: 0.2106 (0.2032)  loss_classifier: 0.0333 (0.0344)  loss_box_reg: 0.0207 (0.0215)  loss_mask: 0.1396 (0.1353)  loss_objectness: 0.0007 (0.0014)  loss_rpn_box_reg: 0.0116 (0.0106)  time: 0.3487  data: 0.0055  max mem: 3136\n",
            "Epoch: [2] Total time: 0:00:21 (0.3647 s / it)\n",
            "creating index...\n",
            "index created!\n",
            "Test:  [ 0/34]  eta: 0:00:12  model_time: 0.0917 (0.0917)  evaluator_time: 0.0129 (0.0129)  time: 0.3548  data: 0.2475  max mem: 3136\n",
            "Test:  [33/34]  eta: 0:00:00  model_time: 0.0700 (0.0744)  evaluator_time: 0.0032 (0.0066)  time: 0.0836  data: 0.0028  max mem: 3136\n",
            "Test: Total time: 0:00:03 (0.0944 s / it)\n",
            "Averaged stats: model_time: 0.0700 (0.0744)  evaluator_time: 0.0032 (0.0066)\n",
            "Accumulating evaluation results...\n",
            "DONE (t=0.01s).\n",
            "Accumulating evaluation results...\n",
            "DONE (t=0.01s).\n",
            "IoU metric: bbox\n",
            " Average Precision  (AP) @[ IoU=0.50:0.95 | area=   all | maxDets=100 ] = 0.772\n",
            " Average Precision  (AP) @[ IoU=0.50      | area=   all | maxDets=100 ] = 0.986\n",
            " Average Precision  (AP) @[ IoU=0.75      | area=   all | maxDets=100 ] = 0.952\n",
            " Average Precision  (AP) @[ IoU=0.50:0.95 | area= small | maxDets=100 ] = -1.000\n",
            " Average Precision  (AP) @[ IoU=0.50:0.95 | area=medium | maxDets=100 ] = 0.537\n",
            " Average Precision  (AP) @[ IoU=0.50:0.95 | area= large | maxDets=100 ] = 0.783\n",
            " Average Recall     (AR) @[ IoU=0.50:0.95 | area=   all | maxDets=  1 ] = 0.328\n",
            " Average Recall     (AR) @[ IoU=0.50:0.95 | area=   all | maxDets= 10 ] = 0.813\n",
            " Average Recall     (AR) @[ IoU=0.50:0.95 | area=   all | maxDets=100 ] = 0.813\n",
            " Average Recall     (AR) @[ IoU=0.50:0.95 | area= small | maxDets=100 ] = -1.000\n",
            " Average Recall     (AR) @[ IoU=0.50:0.95 | area=medium | maxDets=100 ] = 0.771\n",
            " Average Recall     (AR) @[ IoU=0.50:0.95 | area= large | maxDets=100 ] = 0.816\n",
            "IoU metric: segm\n",
            " Average Precision  (AP) @[ IoU=0.50:0.95 | area=   all | maxDets=100 ] = 0.753\n",
            " Average Precision  (AP) @[ IoU=0.50      | area=   all | maxDets=100 ] = 0.986\n",
            " Average Precision  (AP) @[ IoU=0.75      | area=   all | maxDets=100 ] = 0.914\n",
            " Average Precision  (AP) @[ IoU=0.50:0.95 | area= small | maxDets=100 ] = -1.000\n",
            " Average Precision  (AP) @[ IoU=0.50:0.95 | area=medium | maxDets=100 ] = 0.467\n",
            " Average Precision  (AP) @[ IoU=0.50:0.95 | area= large | maxDets=100 ] = 0.769\n",
            " Average Recall     (AR) @[ IoU=0.50:0.95 | area=   all | maxDets=  1 ] = 0.318\n",
            " Average Recall     (AR) @[ IoU=0.50:0.95 | area=   all | maxDets= 10 ] = 0.784\n",
            " Average Recall     (AR) @[ IoU=0.50:0.95 | area=   all | maxDets=100 ] = 0.784\n",
            " Average Recall     (AR) @[ IoU=0.50:0.95 | area= small | maxDets=100 ] = -1.000\n",
            " Average Recall     (AR) @[ IoU=0.50:0.95 | area=medium | maxDets=100 ] = 0.657\n",
            " Average Recall     (AR) @[ IoU=0.50:0.95 | area= large | maxDets=100 ] = 0.795\n",
            "Epoch: [3]  [ 0/60]  eta: 0:00:53  lr: 0.000500  loss: 0.2029 (0.2029)  loss_classifier: 0.0299 (0.0299)  loss_box_reg: 0.0189 (0.0189)  loss_mask: 0.1325 (0.1325)  loss_objectness: 0.0006 (0.0006)  loss_rpn_box_reg: 0.0210 (0.0210)  time: 0.8835  data: 0.4356  max mem: 3136\n",
            "Epoch: [3]  [10/60]  eta: 0:00:20  lr: 0.000500  loss: 0.1736 (0.1778)  loss_classifier: 0.0315 (0.0324)  loss_box_reg: 0.0181 (0.0184)  loss_mask: 0.1155 (0.1166)  loss_objectness: 0.0004 (0.0004)  loss_rpn_box_reg: 0.0083 (0.0100)  time: 0.4118  data: 0.0435  max mem: 3136\n",
            "Epoch: [3]  [20/60]  eta: 0:00:15  lr: 0.000500  loss: 0.1635 (0.1694)  loss_classifier: 0.0313 (0.0291)  loss_box_reg: 0.0094 (0.0142)  loss_mask: 0.1131 (0.1177)  loss_objectness: 0.0004 (0.0006)  loss_rpn_box_reg: 0.0073 (0.0077)  time: 0.3585  data: 0.0050  max mem: 3136\n",
            "Epoch: [3]  [30/60]  eta: 0:00:11  lr: 0.000500  loss: 0.1635 (0.1788)  loss_classifier: 0.0246 (0.0297)  loss_box_reg: 0.0094 (0.0157)  loss_mask: 0.1166 (0.1239)  loss_objectness: 0.0004 (0.0007)  loss_rpn_box_reg: 0.0077 (0.0089)  time: 0.3699  data: 0.0059  max mem: 3136\n",
            "Epoch: [3]  [40/60]  eta: 0:00:07  lr: 0.000500  loss: 0.1615 (0.1778)  loss_classifier: 0.0242 (0.0286)  loss_box_reg: 0.0128 (0.0148)  loss_mask: 0.1229 (0.1254)  loss_objectness: 0.0004 (0.0006)  loss_rpn_box_reg: 0.0077 (0.0084)  time: 0.3766  data: 0.0059  max mem: 3136\n",
            "Epoch: [3]  [50/60]  eta: 0:00:03  lr: 0.000500  loss: 0.1692 (0.1794)  loss_classifier: 0.0231 (0.0291)  loss_box_reg: 0.0096 (0.0145)  loss_mask: 0.1278 (0.1264)  loss_objectness: 0.0004 (0.0010)  loss_rpn_box_reg: 0.0070 (0.0083)  time: 0.3599  data: 0.0056  max mem: 3136\n",
            "Epoch: [3]  [59/60]  eta: 0:00:00  lr: 0.000500  loss: 0.1714 (0.1776)  loss_classifier: 0.0273 (0.0292)  loss_box_reg: 0.0093 (0.0140)  loss_mask: 0.1219 (0.1249)  loss_objectness: 0.0007 (0.0010)  loss_rpn_box_reg: 0.0071 (0.0084)  time: 0.3413  data: 0.0054  max mem: 3136\n",
            "Epoch: [3] Total time: 0:00:22 (0.3697 s / it)\n",
            "creating index...\n",
            "index created!\n",
            "Test:  [ 0/34]  eta: 0:00:12  model_time: 0.0926 (0.0926)  evaluator_time: 0.0116 (0.0116)  time: 0.3630  data: 0.2560  max mem: 3136\n",
            "Test:  [33/34]  eta: 0:00:00  model_time: 0.0688 (0.0737)  evaluator_time: 0.0032 (0.0060)  time: 0.0830  data: 0.0029  max mem: 3136\n",
            "Test: Total time: 0:00:03 (0.0944 s / it)\n",
            "Averaged stats: model_time: 0.0688 (0.0737)  evaluator_time: 0.0032 (0.0060)\n",
            "Accumulating evaluation results...\n",
            "DONE (t=0.01s).\n",
            "Accumulating evaluation results...\n",
            "DONE (t=0.01s).\n",
            "IoU metric: bbox\n",
            " Average Precision  (AP) @[ IoU=0.50:0.95 | area=   all | maxDets=100 ] = 0.835\n",
            " Average Precision  (AP) @[ IoU=0.50      | area=   all | maxDets=100 ] = 0.990\n",
            " Average Precision  (AP) @[ IoU=0.75      | area=   all | maxDets=100 ] = 0.961\n",
            " Average Precision  (AP) @[ IoU=0.50:0.95 | area= small | maxDets=100 ] = -1.000\n",
            " Average Precision  (AP) @[ IoU=0.50:0.95 | area=medium | maxDets=100 ] = 0.611\n",
            " Average Precision  (AP) @[ IoU=0.50:0.95 | area= large | maxDets=100 ] = 0.844\n",
            " Average Recall     (AR) @[ IoU=0.50:0.95 | area=   all | maxDets=  1 ] = 0.355\n",
            " Average Recall     (AR) @[ IoU=0.50:0.95 | area=   all | maxDets= 10 ] = 0.880\n",
            " Average Recall     (AR) @[ IoU=0.50:0.95 | area=   all | maxDets=100 ] = 0.880\n",
            " Average Recall     (AR) @[ IoU=0.50:0.95 | area= small | maxDets=100 ] = -1.000\n",
            " Average Recall     (AR) @[ IoU=0.50:0.95 | area=medium | maxDets=100 ] = 0.829\n",
            " Average Recall     (AR) @[ IoU=0.50:0.95 | area= large | maxDets=100 ] = 0.885\n",
            "IoU metric: segm\n",
            " Average Precision  (AP) @[ IoU=0.50:0.95 | area=   all | maxDets=100 ] = 0.778\n",
            " Average Precision  (AP) @[ IoU=0.50      | area=   all | maxDets=100 ] = 0.990\n",
            " Average Precision  (AP) @[ IoU=0.75      | area=   all | maxDets=100 ] = 0.961\n",
            " Average Precision  (AP) @[ IoU=0.50:0.95 | area= small | maxDets=100 ] = -1.000\n",
            " Average Precision  (AP) @[ IoU=0.50:0.95 | area=medium | maxDets=100 ] = 0.563\n",
            " Average Precision  (AP) @[ IoU=0.50:0.95 | area= large | maxDets=100 ] = 0.793\n",
            " Average Recall     (AR) @[ IoU=0.50:0.95 | area=   all | maxDets=  1 ] = 0.326\n",
            " Average Recall     (AR) @[ IoU=0.50:0.95 | area=   all | maxDets= 10 ] = 0.815\n",
            " Average Recall     (AR) @[ IoU=0.50:0.95 | area=   all | maxDets=100 ] = 0.815\n",
            " Average Recall     (AR) @[ IoU=0.50:0.95 | area= small | maxDets=100 ] = -1.000\n",
            " Average Recall     (AR) @[ IoU=0.50:0.95 | area=medium | maxDets=100 ] = 0.714\n",
            " Average Recall     (AR) @[ IoU=0.50:0.95 | area= large | maxDets=100 ] = 0.824\n",
            "Epoch: [4]  [ 0/60]  eta: 0:00:47  lr: 0.000500  loss: 0.1163 (0.1163)  loss_classifier: 0.0113 (0.0113)  loss_box_reg: 0.0017 (0.0017)  loss_mask: 0.1020 (0.1020)  loss_objectness: 0.0001 (0.0001)  loss_rpn_box_reg: 0.0014 (0.0014)  time: 0.7974  data: 0.3814  max mem: 3136\n",
            "Epoch: [4]  [10/60]  eta: 0:00:19  lr: 0.000500  loss: 0.1411 (0.1640)  loss_classifier: 0.0207 (0.0260)  loss_box_reg: 0.0068 (0.0096)  loss_mask: 0.1029 (0.1217)  loss_objectness: 0.0002 (0.0005)  loss_rpn_box_reg: 0.0053 (0.0061)  time: 0.3938  data: 0.0387  max mem: 3434\n",
            "Epoch: [4]  [20/60]  eta: 0:00:15  lr: 0.000500  loss: 0.1541 (0.1728)  loss_classifier: 0.0267 (0.0292)  loss_box_reg: 0.0090 (0.0128)  loss_mask: 0.1103 (0.1224)  loss_objectness: 0.0004 (0.0008)  loss_rpn_box_reg: 0.0070 (0.0076)  time: 0.3664  data: 0.0048  max mem: 3434\n",
            "Epoch: [4]  [30/60]  eta: 0:00:11  lr: 0.000500  loss: 0.1807 (0.1755)  loss_classifier: 0.0296 (0.0298)  loss_box_reg: 0.0113 (0.0133)  loss_mask: 0.1176 (0.1237)  loss_objectness: 0.0008 (0.0010)  loss_rpn_box_reg: 0.0082 (0.0076)  time: 0.3735  data: 0.0053  max mem: 3434\n",
            "Epoch: [4]  [40/60]  eta: 0:00:07  lr: 0.000500  loss: 0.1630 (0.1720)  loss_classifier: 0.0252 (0.0286)  loss_box_reg: 0.0111 (0.0127)  loss_mask: 0.1157 (0.1220)  loss_objectness: 0.0004 (0.0009)  loss_rpn_box_reg: 0.0080 (0.0077)  time: 0.3685  data: 0.0057  max mem: 3434\n",
            "Epoch: [4]  [50/60]  eta: 0:00:03  lr: 0.000500  loss: 0.1459 (0.1677)  loss_classifier: 0.0216 (0.0275)  loss_box_reg: 0.0076 (0.0117)  loss_mask: 0.1123 (0.1200)  loss_objectness: 0.0004 (0.0008)  loss_rpn_box_reg: 0.0071 (0.0076)  time: 0.3694  data: 0.0057  max mem: 3434\n",
            "Epoch: [4]  [59/60]  eta: 0:00:00  lr: 0.000500  loss: 0.1468 (0.1673)  loss_classifier: 0.0220 (0.0278)  loss_box_reg: 0.0074 (0.0119)  loss_mask: 0.1164 (0.1189)  loss_objectness: 0.0004 (0.0008)  loss_rpn_box_reg: 0.0070 (0.0078)  time: 0.3600  data: 0.0052  max mem: 3434\n",
            "Epoch: [4] Total time: 0:00:22 (0.3726 s / it)\n",
            "creating index...\n",
            "index created!\n",
            "Test:  [ 0/34]  eta: 0:00:12  model_time: 0.0848 (0.0848)  evaluator_time: 0.0113 (0.0113)  time: 0.3599  data: 0.2558  max mem: 3434\n",
            "Test:  [33/34]  eta: 0:00:00  model_time: 0.0699 (0.0732)  evaluator_time: 0.0032 (0.0059)  time: 0.0825  data: 0.0028  max mem: 3434\n",
            "Test: Total time: 0:00:03 (0.0930 s / it)\n",
            "Averaged stats: model_time: 0.0699 (0.0732)  evaluator_time: 0.0032 (0.0059)\n",
            "Accumulating evaluation results...\n",
            "DONE (t=0.01s).\n",
            "Accumulating evaluation results...\n",
            "DONE (t=0.01s).\n",
            "IoU metric: bbox\n",
            " Average Precision  (AP) @[ IoU=0.50:0.95 | area=   all | maxDets=100 ] = 0.845\n",
            " Average Precision  (AP) @[ IoU=0.50      | area=   all | maxDets=100 ] = 0.989\n",
            " Average Precision  (AP) @[ IoU=0.75      | area=   all | maxDets=100 ] = 0.952\n",
            " Average Precision  (AP) @[ IoU=0.50:0.95 | area= small | maxDets=100 ] = -1.000\n",
            " Average Precision  (AP) @[ IoU=0.50:0.95 | area=medium | maxDets=100 ] = 0.601\n",
            " Average Precision  (AP) @[ IoU=0.50:0.95 | area= large | maxDets=100 ] = 0.858\n",
            " Average Recall     (AR) @[ IoU=0.50:0.95 | area=   all | maxDets=  1 ] = 0.363\n",
            " Average Recall     (AR) @[ IoU=0.50:0.95 | area=   all | maxDets= 10 ] = 0.884\n",
            " Average Recall     (AR) @[ IoU=0.50:0.95 | area=   all | maxDets=100 ] = 0.884\n",
            " Average Recall     (AR) @[ IoU=0.50:0.95 | area= small | maxDets=100 ] = -1.000\n",
            " Average Recall     (AR) @[ IoU=0.50:0.95 | area=medium | maxDets=100 ] = 0.786\n",
            " Average Recall     (AR) @[ IoU=0.50:0.95 | area= large | maxDets=100 ] = 0.893\n",
            "IoU metric: segm\n",
            " Average Precision  (AP) @[ IoU=0.50:0.95 | area=   all | maxDets=100 ] = 0.785\n",
            " Average Precision  (AP) @[ IoU=0.50      | area=   all | maxDets=100 ] = 0.989\n",
            " Average Precision  (AP) @[ IoU=0.75      | area=   all | maxDets=100 ] = 0.952\n",
            " Average Precision  (AP) @[ IoU=0.50:0.95 | area= small | maxDets=100 ] = -1.000\n",
            " Average Precision  (AP) @[ IoU=0.50:0.95 | area=medium | maxDets=100 ] = 0.587\n",
            " Average Precision  (AP) @[ IoU=0.50:0.95 | area= large | maxDets=100 ] = 0.794\n",
            " Average Recall     (AR) @[ IoU=0.50:0.95 | area=   all | maxDets=  1 ] = 0.329\n",
            " Average Recall     (AR) @[ IoU=0.50:0.95 | area=   all | maxDets= 10 ] = 0.824\n",
            " Average Recall     (AR) @[ IoU=0.50:0.95 | area=   all | maxDets=100 ] = 0.824\n",
            " Average Recall     (AR) @[ IoU=0.50:0.95 | area= small | maxDets=100 ] = -1.000\n",
            " Average Recall     (AR) @[ IoU=0.50:0.95 | area=medium | maxDets=100 ] = 0.743\n",
            " Average Recall     (AR) @[ IoU=0.50:0.95 | area= large | maxDets=100 ] = 0.831\n",
            "Epoch: [5]  [ 0/60]  eta: 0:01:04  lr: 0.000500  loss: 0.1657 (0.1657)  loss_classifier: 0.0346 (0.0346)  loss_box_reg: 0.0108 (0.0108)  loss_mask: 0.1064 (0.1064)  loss_objectness: 0.0031 (0.0031)  loss_rpn_box_reg: 0.0108 (0.0108)  time: 1.0789  data: 0.6502  max mem: 3434\n",
            "Epoch: [5]  [10/60]  eta: 0:00:21  lr: 0.000500  loss: 0.1384 (0.1590)  loss_classifier: 0.0216 (0.0260)  loss_box_reg: 0.0085 (0.0126)  loss_mask: 0.0981 (0.1106)  loss_objectness: 0.0006 (0.0011)  loss_rpn_box_reg: 0.0108 (0.0088)  time: 0.4370  data: 0.0615  max mem: 3434\n",
            "Epoch: [5]  [20/60]  eta: 0:00:15  lr: 0.000500  loss: 0.1384 (0.1578)  loss_classifier: 0.0216 (0.0261)  loss_box_reg: 0.0083 (0.0111)  loss_mask: 0.0988 (0.1115)  loss_objectness: 0.0004 (0.0012)  loss_rpn_box_reg: 0.0078 (0.0079)  time: 0.3641  data: 0.0042  max mem: 3434\n",
            "Epoch: [5]  [30/60]  eta: 0:00:11  lr: 0.000500  loss: 0.1543 (0.1617)  loss_classifier: 0.0238 (0.0252)  loss_box_reg: 0.0076 (0.0116)  loss_mask: 0.1108 (0.1161)  loss_objectness: 0.0003 (0.0009)  loss_rpn_box_reg: 0.0069 (0.0079)  time: 0.3486  data: 0.0056  max mem: 3434\n",
            "Epoch: [5]  [40/60]  eta: 0:00:07  lr: 0.000500  loss: 0.1546 (0.1630)  loss_classifier: 0.0208 (0.0256)  loss_box_reg: 0.0103 (0.0115)  loss_mask: 0.1188 (0.1171)  loss_objectness: 0.0004 (0.0010)  loss_rpn_box_reg: 0.0061 (0.0077)  time: 0.3582  data: 0.0057  max mem: 3434\n",
            "Epoch: [5]  [50/60]  eta: 0:00:03  lr: 0.000500  loss: 0.1643 (0.1669)  loss_classifier: 0.0257 (0.0261)  loss_box_reg: 0.0103 (0.0122)  loss_mask: 0.1188 (0.1199)  loss_objectness: 0.0005 (0.0010)  loss_rpn_box_reg: 0.0068 (0.0078)  time: 0.3726  data: 0.0060  max mem: 3434\n",
            "Epoch: [5]  [59/60]  eta: 0:00:00  lr: 0.000500  loss: 0.1643 (0.1675)  loss_classifier: 0.0272 (0.0269)  loss_box_reg: 0.0115 (0.0124)  loss_mask: 0.1141 (0.1193)  loss_objectness: 0.0004 (0.0010)  loss_rpn_box_reg: 0.0080 (0.0079)  time: 0.3571  data: 0.0058  max mem: 3434\n",
            "Epoch: [5] Total time: 0:00:22 (0.3729 s / it)\n",
            "creating index...\n",
            "index created!\n",
            "Test:  [ 0/34]  eta: 0:00:11  model_time: 0.0932 (0.0932)  evaluator_time: 0.0113 (0.0113)  time: 0.3512  data: 0.2439  max mem: 3434\n",
            "Test:  [33/34]  eta: 0:00:00  model_time: 0.0691 (0.0741)  evaluator_time: 0.0033 (0.0060)  time: 0.0832  data: 0.0030  max mem: 3434\n",
            "Test: Total time: 0:00:03 (0.0935 s / it)\n",
            "Averaged stats: model_time: 0.0691 (0.0741)  evaluator_time: 0.0033 (0.0060)\n",
            "Accumulating evaluation results...\n",
            "DONE (t=0.01s).\n",
            "Accumulating evaluation results...\n",
            "DONE (t=0.01s).\n",
            "IoU metric: bbox\n",
            " Average Precision  (AP) @[ IoU=0.50:0.95 | area=   all | maxDets=100 ] = 0.846\n",
            " Average Precision  (AP) @[ IoU=0.50      | area=   all | maxDets=100 ] = 0.990\n",
            " Average Precision  (AP) @[ IoU=0.75      | area=   all | maxDets=100 ] = 0.960\n",
            " Average Precision  (AP) @[ IoU=0.50:0.95 | area= small | maxDets=100 ] = -1.000\n",
            " Average Precision  (AP) @[ IoU=0.50:0.95 | area=medium | maxDets=100 ] = 0.629\n",
            " Average Precision  (AP) @[ IoU=0.50:0.95 | area= large | maxDets=100 ] = 0.860\n",
            " Average Recall     (AR) @[ IoU=0.50:0.95 | area=   all | maxDets=  1 ] = 0.361\n",
            " Average Recall     (AR) @[ IoU=0.50:0.95 | area=   all | maxDets= 10 ] = 0.887\n",
            " Average Recall     (AR) @[ IoU=0.50:0.95 | area=   all | maxDets=100 ] = 0.887\n",
            " Average Recall     (AR) @[ IoU=0.50:0.95 | area= small | maxDets=100 ] = -1.000\n",
            " Average Recall     (AR) @[ IoU=0.50:0.95 | area=medium | maxDets=100 ] = 0.786\n",
            " Average Recall     (AR) @[ IoU=0.50:0.95 | area= large | maxDets=100 ] = 0.896\n",
            "IoU metric: segm\n",
            " Average Precision  (AP) @[ IoU=0.50:0.95 | area=   all | maxDets=100 ] = 0.793\n",
            " Average Precision  (AP) @[ IoU=0.50      | area=   all | maxDets=100 ] = 0.990\n",
            " Average Precision  (AP) @[ IoU=0.75      | area=   all | maxDets=100 ] = 0.960\n",
            " Average Precision  (AP) @[ IoU=0.50:0.95 | area= small | maxDets=100 ] = -1.000\n",
            " Average Precision  (AP) @[ IoU=0.50:0.95 | area=medium | maxDets=100 ] = 0.599\n",
            " Average Precision  (AP) @[ IoU=0.50:0.95 | area= large | maxDets=100 ] = 0.805\n",
            " Average Recall     (AR) @[ IoU=0.50:0.95 | area=   all | maxDets=  1 ] = 0.332\n",
            " Average Recall     (AR) @[ IoU=0.50:0.95 | area=   all | maxDets= 10 ] = 0.829\n",
            " Average Recall     (AR) @[ IoU=0.50:0.95 | area=   all | maxDets=100 ] = 0.829\n",
            " Average Recall     (AR) @[ IoU=0.50:0.95 | area= small | maxDets=100 ] = -1.000\n",
            " Average Recall     (AR) @[ IoU=0.50:0.95 | area=medium | maxDets=100 ] = 0.729\n",
            " Average Recall     (AR) @[ IoU=0.50:0.95 | area= large | maxDets=100 ] = 0.838\n",
            "Epoch: [6]  [ 0/60]  eta: 0:01:01  lr: 0.000050  loss: 0.2291 (0.2291)  loss_classifier: 0.0427 (0.0427)  loss_box_reg: 0.0263 (0.0263)  loss_mask: 0.1462 (0.1462)  loss_objectness: 0.0007 (0.0007)  loss_rpn_box_reg: 0.0133 (0.0133)  time: 1.0318  data: 0.5637  max mem: 3434\n",
            "Epoch: [6]  [10/60]  eta: 0:00:21  lr: 0.000050  loss: 0.1454 (0.1578)  loss_classifier: 0.0240 (0.0262)  loss_box_reg: 0.0060 (0.0113)  loss_mask: 0.1089 (0.1122)  loss_objectness: 0.0002 (0.0005)  loss_rpn_box_reg: 0.0060 (0.0076)  time: 0.4224  data: 0.0545  max mem: 3434\n",
            "Epoch: [6]  [20/60]  eta: 0:00:15  lr: 0.000050  loss: 0.1488 (0.1587)  loss_classifier: 0.0220 (0.0263)  loss_box_reg: 0.0059 (0.0101)  loss_mask: 0.1089 (0.1144)  loss_objectness: 0.0003 (0.0008)  loss_rpn_box_reg: 0.0051 (0.0072)  time: 0.3649  data: 0.0044  max mem: 3434\n",
            "Epoch: [6]  [30/60]  eta: 0:00:11  lr: 0.000050  loss: 0.1488 (0.1573)  loss_classifier: 0.0216 (0.0244)  loss_box_reg: 0.0055 (0.0103)  loss_mask: 0.1088 (0.1150)  loss_objectness: 0.0008 (0.0008)  loss_rpn_box_reg: 0.0045 (0.0068)  time: 0.3589  data: 0.0057  max mem: 3434\n",
            "Epoch: [6]  [40/60]  eta: 0:00:07  lr: 0.000050  loss: 0.1377 (0.1550)  loss_classifier: 0.0168 (0.0240)  loss_box_reg: 0.0065 (0.0099)  loss_mask: 0.1055 (0.1133)  loss_objectness: 0.0003 (0.0009)  loss_rpn_box_reg: 0.0065 (0.0069)  time: 0.3626  data: 0.0060  max mem: 3434\n",
            "Epoch: [6]  [50/60]  eta: 0:00:03  lr: 0.000050  loss: 0.1452 (0.1597)  loss_classifier: 0.0216 (0.0250)  loss_box_reg: 0.0091 (0.0110)  loss_mask: 0.1051 (0.1154)  loss_objectness: 0.0003 (0.0010)  loss_rpn_box_reg: 0.0070 (0.0073)  time: 0.3711  data: 0.0056  max mem: 3434\n",
            "Epoch: [6]  [59/60]  eta: 0:00:00  lr: 0.000050  loss: 0.1529 (0.1615)  loss_classifier: 0.0272 (0.0260)  loss_box_reg: 0.0109 (0.0115)  loss_mask: 0.1103 (0.1153)  loss_objectness: 0.0003 (0.0009)  loss_rpn_box_reg: 0.0077 (0.0077)  time: 0.3605  data: 0.0055  max mem: 3434\n",
            "Epoch: [6] Total time: 0:00:22 (0.3757 s / it)\n",
            "creating index...\n",
            "index created!\n",
            "Test:  [ 0/34]  eta: 0:00:12  model_time: 0.0928 (0.0928)  evaluator_time: 0.0150 (0.0150)  time: 0.3557  data: 0.2455  max mem: 3434\n",
            "Test:  [33/34]  eta: 0:00:00  model_time: 0.0696 (0.0733)  evaluator_time: 0.0033 (0.0061)  time: 0.0826  data: 0.0029  max mem: 3434\n",
            "Test: Total time: 0:00:03 (0.0931 s / it)\n",
            "Averaged stats: model_time: 0.0696 (0.0733)  evaluator_time: 0.0033 (0.0061)\n",
            "Accumulating evaluation results...\n",
            "DONE (t=0.01s).\n",
            "Accumulating evaluation results...\n",
            "DONE (t=0.01s).\n",
            "IoU metric: bbox\n",
            " Average Precision  (AP) @[ IoU=0.50:0.95 | area=   all | maxDets=100 ] = 0.838\n",
            " Average Precision  (AP) @[ IoU=0.50      | area=   all | maxDets=100 ] = 0.990\n",
            " Average Precision  (AP) @[ IoU=0.75      | area=   all | maxDets=100 ] = 0.952\n",
            " Average Precision  (AP) @[ IoU=0.50:0.95 | area= small | maxDets=100 ] = -1.000\n",
            " Average Precision  (AP) @[ IoU=0.50:0.95 | area=medium | maxDets=100 ] = 0.629\n",
            " Average Precision  (AP) @[ IoU=0.50:0.95 | area= large | maxDets=100 ] = 0.849\n",
            " Average Recall     (AR) @[ IoU=0.50:0.95 | area=   all | maxDets=  1 ] = 0.359\n",
            " Average Recall     (AR) @[ IoU=0.50:0.95 | area=   all | maxDets= 10 ] = 0.880\n",
            " Average Recall     (AR) @[ IoU=0.50:0.95 | area=   all | maxDets=100 ] = 0.880\n",
            " Average Recall     (AR) @[ IoU=0.50:0.95 | area= small | maxDets=100 ] = -1.000\n",
            " Average Recall     (AR) @[ IoU=0.50:0.95 | area=medium | maxDets=100 ] = 0.786\n",
            " Average Recall     (AR) @[ IoU=0.50:0.95 | area= large | maxDets=100 ] = 0.889\n",
            "IoU metric: segm\n",
            " Average Precision  (AP) @[ IoU=0.50:0.95 | area=   all | maxDets=100 ] = 0.787\n",
            " Average Precision  (AP) @[ IoU=0.50      | area=   all | maxDets=100 ] = 0.990\n",
            " Average Precision  (AP) @[ IoU=0.75      | area=   all | maxDets=100 ] = 0.952\n",
            " Average Precision  (AP) @[ IoU=0.50:0.95 | area= small | maxDets=100 ] = -1.000\n",
            " Average Precision  (AP) @[ IoU=0.50:0.95 | area=medium | maxDets=100 ] = 0.614\n",
            " Average Precision  (AP) @[ IoU=0.50:0.95 | area= large | maxDets=100 ] = 0.797\n",
            " Average Recall     (AR) @[ IoU=0.50:0.95 | area=   all | maxDets=  1 ] = 0.329\n",
            " Average Recall     (AR) @[ IoU=0.50:0.95 | area=   all | maxDets= 10 ] = 0.824\n",
            " Average Recall     (AR) @[ IoU=0.50:0.95 | area=   all | maxDets=100 ] = 0.824\n",
            " Average Recall     (AR) @[ IoU=0.50:0.95 | area= small | maxDets=100 ] = -1.000\n",
            " Average Recall     (AR) @[ IoU=0.50:0.95 | area=medium | maxDets=100 ] = 0.743\n",
            " Average Recall     (AR) @[ IoU=0.50:0.95 | area= large | maxDets=100 ] = 0.831\n",
            "Epoch: [7]  [ 0/60]  eta: 0:00:51  lr: 0.000050  loss: 0.1223 (0.1223)  loss_classifier: 0.0220 (0.0220)  loss_box_reg: 0.0069 (0.0069)  loss_mask: 0.0874 (0.0874)  loss_objectness: 0.0002 (0.0002)  loss_rpn_box_reg: 0.0057 (0.0057)  time: 0.8614  data: 0.3924  max mem: 3434\n",
            "Epoch: [7]  [10/60]  eta: 0:00:19  lr: 0.000050  loss: 0.1375 (0.1594)  loss_classifier: 0.0210 (0.0232)  loss_box_reg: 0.0056 (0.0097)  loss_mask: 0.1051 (0.1192)  loss_objectness: 0.0004 (0.0004)  loss_rpn_box_reg: 0.0057 (0.0068)  time: 0.3833  data: 0.0393  max mem: 3434\n",
            "Epoch: [7]  [20/60]  eta: 0:00:14  lr: 0.000050  loss: 0.1376 (0.1608)  loss_classifier: 0.0206 (0.0232)  loss_box_reg: 0.0057 (0.0102)  loss_mask: 0.1113 (0.1191)  loss_objectness: 0.0002 (0.0005)  loss_rpn_box_reg: 0.0058 (0.0078)  time: 0.3480  data: 0.0048  max mem: 3434\n",
            "Epoch: [7]  [30/60]  eta: 0:00:11  lr: 0.000050  loss: 0.1748 (0.1654)  loss_classifier: 0.0245 (0.0249)  loss_box_reg: 0.0113 (0.0113)  loss_mask: 0.1223 (0.1205)  loss_objectness: 0.0003 (0.0006)  loss_rpn_box_reg: 0.0080 (0.0081)  time: 0.3620  data: 0.0057  max mem: 3434\n",
            "Epoch: [7]  [40/60]  eta: 0:00:07  lr: 0.000050  loss: 0.1605 (0.1626)  loss_classifier: 0.0257 (0.0253)  loss_box_reg: 0.0113 (0.0110)  loss_mask: 0.1103 (0.1179)  loss_objectness: 0.0005 (0.0007)  loss_rpn_box_reg: 0.0075 (0.0078)  time: 0.3676  data: 0.0058  max mem: 3434\n",
            "Epoch: [7]  [50/60]  eta: 0:00:03  lr: 0.000050  loss: 0.1531 (0.1647)  loss_classifier: 0.0257 (0.0260)  loss_box_reg: 0.0115 (0.0120)  loss_mask: 0.1057 (0.1182)  loss_objectness: 0.0005 (0.0008)  loss_rpn_box_reg: 0.0070 (0.0077)  time: 0.3824  data: 0.0057  max mem: 3596\n",
            "Epoch: [7]  [59/60]  eta: 0:00:00  lr: 0.000050  loss: 0.1579 (0.1632)  loss_classifier: 0.0257 (0.0258)  loss_box_reg: 0.0114 (0.0116)  loss_mask: 0.1101 (0.1176)  loss_objectness: 0.0004 (0.0008)  loss_rpn_box_reg: 0.0068 (0.0075)  time: 0.3717  data: 0.0057  max mem: 3596\n",
            "Epoch: [7] Total time: 0:00:22 (0.3710 s / it)\n",
            "creating index...\n",
            "index created!\n",
            "Test:  [ 0/34]  eta: 0:00:11  model_time: 0.0920 (0.0920)  evaluator_time: 0.0118 (0.0118)  time: 0.3515  data: 0.2451  max mem: 3596\n",
            "Test:  [33/34]  eta: 0:00:00  model_time: 0.0699 (0.0741)  evaluator_time: 0.0035 (0.0062)  time: 0.0836  data: 0.0031  max mem: 3596\n",
            "Test: Total time: 0:00:03 (0.0937 s / it)\n",
            "Averaged stats: model_time: 0.0699 (0.0741)  evaluator_time: 0.0035 (0.0062)\n",
            "Accumulating evaluation results...\n",
            "DONE (t=0.01s).\n",
            "Accumulating evaluation results...\n",
            "DONE (t=0.01s).\n",
            "IoU metric: bbox\n",
            " Average Precision  (AP) @[ IoU=0.50:0.95 | area=   all | maxDets=100 ] = 0.840\n",
            " Average Precision  (AP) @[ IoU=0.50      | area=   all | maxDets=100 ] = 0.990\n",
            " Average Precision  (AP) @[ IoU=0.75      | area=   all | maxDets=100 ] = 0.952\n",
            " Average Precision  (AP) @[ IoU=0.50:0.95 | area= small | maxDets=100 ] = -1.000\n",
            " Average Precision  (AP) @[ IoU=0.50:0.95 | area=medium | maxDets=100 ] = 0.650\n",
            " Average Precision  (AP) @[ IoU=0.50:0.95 | area= large | maxDets=100 ] = 0.851\n",
            " Average Recall     (AR) @[ IoU=0.50:0.95 | area=   all | maxDets=  1 ] = 0.357\n",
            " Average Recall     (AR) @[ IoU=0.50:0.95 | area=   all | maxDets= 10 ] = 0.883\n",
            " Average Recall     (AR) @[ IoU=0.50:0.95 | area=   all | maxDets=100 ] = 0.883\n",
            " Average Recall     (AR) @[ IoU=0.50:0.95 | area= small | maxDets=100 ] = -1.000\n",
            " Average Recall     (AR) @[ IoU=0.50:0.95 | area=medium | maxDets=100 ] = 0.800\n",
            " Average Recall     (AR) @[ IoU=0.50:0.95 | area= large | maxDets=100 ] = 0.890\n",
            "IoU metric: segm\n",
            " Average Precision  (AP) @[ IoU=0.50:0.95 | area=   all | maxDets=100 ] = 0.790\n",
            " Average Precision  (AP) @[ IoU=0.50      | area=   all | maxDets=100 ] = 0.990\n",
            " Average Precision  (AP) @[ IoU=0.75      | area=   all | maxDets=100 ] = 0.952\n",
            " Average Precision  (AP) @[ IoU=0.50:0.95 | area= small | maxDets=100 ] = -1.000\n",
            " Average Precision  (AP) @[ IoU=0.50:0.95 | area=medium | maxDets=100 ] = 0.614\n",
            " Average Precision  (AP) @[ IoU=0.50:0.95 | area= large | maxDets=100 ] = 0.800\n",
            " Average Recall     (AR) @[ IoU=0.50:0.95 | area=   all | maxDets=  1 ] = 0.331\n",
            " Average Recall     (AR) @[ IoU=0.50:0.95 | area=   all | maxDets= 10 ] = 0.825\n",
            " Average Recall     (AR) @[ IoU=0.50:0.95 | area=   all | maxDets=100 ] = 0.825\n",
            " Average Recall     (AR) @[ IoU=0.50:0.95 | area= small | maxDets=100 ] = -1.000\n",
            " Average Recall     (AR) @[ IoU=0.50:0.95 | area=medium | maxDets=100 ] = 0.743\n",
            " Average Recall     (AR) @[ IoU=0.50:0.95 | area= large | maxDets=100 ] = 0.832\n",
            "Epoch: [8]  [ 0/60]  eta: 0:00:43  lr: 0.000050  loss: 0.2097 (0.2097)  loss_classifier: 0.0257 (0.0257)  loss_box_reg: 0.0332 (0.0332)  loss_mask: 0.1419 (0.1419)  loss_objectness: 0.0002 (0.0002)  loss_rpn_box_reg: 0.0086 (0.0086)  time: 0.7185  data: 0.2649  max mem: 3596\n",
            "Epoch: [8]  [10/60]  eta: 0:00:20  lr: 0.000050  loss: 0.1538 (0.1586)  loss_classifier: 0.0251 (0.0229)  loss_box_reg: 0.0094 (0.0108)  loss_mask: 0.1110 (0.1176)  loss_objectness: 0.0003 (0.0003)  loss_rpn_box_reg: 0.0068 (0.0070)  time: 0.4098  data: 0.0290  max mem: 3596\n",
            "Epoch: [8]  [20/60]  eta: 0:00:15  lr: 0.000050  loss: 0.1411 (0.1522)  loss_classifier: 0.0225 (0.0225)  loss_box_reg: 0.0070 (0.0099)  loss_mask: 0.1036 (0.1132)  loss_objectness: 0.0003 (0.0004)  loss_rpn_box_reg: 0.0053 (0.0063)  time: 0.3607  data: 0.0056  max mem: 3596\n",
            "Epoch: [8]  [30/60]  eta: 0:00:11  lr: 0.000050  loss: 0.1591 (0.1594)  loss_classifier: 0.0226 (0.0244)  loss_box_reg: 0.0086 (0.0106)  loss_mask: 0.1083 (0.1170)  loss_objectness: 0.0004 (0.0005)  loss_rpn_box_reg: 0.0056 (0.0069)  time: 0.3504  data: 0.0059  max mem: 3596\n",
            "Epoch: [8]  [40/60]  eta: 0:00:07  lr: 0.000050  loss: 0.1636 (0.1622)  loss_classifier: 0.0260 (0.0253)  loss_box_reg: 0.0097 (0.0111)  loss_mask: 0.1161 (0.1177)  loss_objectness: 0.0004 (0.0006)  loss_rpn_box_reg: 0.0093 (0.0075)  time: 0.3824  data: 0.0060  max mem: 3596\n",
            "Epoch: [8]  [50/60]  eta: 0:00:03  lr: 0.000050  loss: 0.1492 (0.1597)  loss_classifier: 0.0242 (0.0256)  loss_box_reg: 0.0084 (0.0107)  loss_mask: 0.1084 (0.1154)  loss_objectness: 0.0005 (0.0008)  loss_rpn_box_reg: 0.0063 (0.0073)  time: 0.3821  data: 0.0058  max mem: 3596\n",
            "Epoch: [8]  [59/60]  eta: 0:00:00  lr: 0.000050  loss: 0.1493 (0.1645)  loss_classifier: 0.0259 (0.0262)  loss_box_reg: 0.0084 (0.0115)  loss_mask: 0.1119 (0.1183)  loss_objectness: 0.0004 (0.0009)  loss_rpn_box_reg: 0.0060 (0.0075)  time: 0.3481  data: 0.0053  max mem: 3596\n",
            "Epoch: [8] Total time: 0:00:22 (0.3700 s / it)\n",
            "creating index...\n",
            "index created!\n",
            "Test:  [ 0/34]  eta: 0:00:11  model_time: 0.0897 (0.0897)  evaluator_time: 0.0116 (0.0116)  time: 0.3329  data: 0.2288  max mem: 3596\n",
            "Test:  [33/34]  eta: 0:00:00  model_time: 0.0693 (0.0737)  evaluator_time: 0.0034 (0.0063)  time: 0.0830  data: 0.0030  max mem: 3596\n",
            "Test: Total time: 0:00:03 (0.0937 s / it)\n",
            "Averaged stats: model_time: 0.0693 (0.0737)  evaluator_time: 0.0034 (0.0063)\n",
            "Accumulating evaluation results...\n",
            "DONE (t=0.01s).\n",
            "Accumulating evaluation results...\n",
            "DONE (t=0.01s).\n",
            "IoU metric: bbox\n",
            " Average Precision  (AP) @[ IoU=0.50:0.95 | area=   all | maxDets=100 ] = 0.843\n",
            " Average Precision  (AP) @[ IoU=0.50      | area=   all | maxDets=100 ] = 0.990\n",
            " Average Precision  (AP) @[ IoU=0.75      | area=   all | maxDets=100 ] = 0.952\n",
            " Average Precision  (AP) @[ IoU=0.50:0.95 | area= small | maxDets=100 ] = -1.000\n",
            " Average Precision  (AP) @[ IoU=0.50:0.95 | area=medium | maxDets=100 ] = 0.650\n",
            " Average Precision  (AP) @[ IoU=0.50:0.95 | area= large | maxDets=100 ] = 0.854\n",
            " Average Recall     (AR) @[ IoU=0.50:0.95 | area=   all | maxDets=  1 ] = 0.360\n",
            " Average Recall     (AR) @[ IoU=0.50:0.95 | area=   all | maxDets= 10 ] = 0.884\n",
            " Average Recall     (AR) @[ IoU=0.50:0.95 | area=   all | maxDets=100 ] = 0.884\n",
            " Average Recall     (AR) @[ IoU=0.50:0.95 | area= small | maxDets=100 ] = -1.000\n",
            " Average Recall     (AR) @[ IoU=0.50:0.95 | area=medium | maxDets=100 ] = 0.800\n",
            " Average Recall     (AR) @[ IoU=0.50:0.95 | area= large | maxDets=100 ] = 0.891\n",
            "IoU metric: segm\n",
            " Average Precision  (AP) @[ IoU=0.50:0.95 | area=   all | maxDets=100 ] = 0.787\n",
            " Average Precision  (AP) @[ IoU=0.50      | area=   all | maxDets=100 ] = 0.990\n",
            " Average Precision  (AP) @[ IoU=0.75      | area=   all | maxDets=100 ] = 0.952\n",
            " Average Precision  (AP) @[ IoU=0.50:0.95 | area= small | maxDets=100 ] = -1.000\n",
            " Average Precision  (AP) @[ IoU=0.50:0.95 | area=medium | maxDets=100 ] = 0.614\n",
            " Average Precision  (AP) @[ IoU=0.50:0.95 | area= large | maxDets=100 ] = 0.796\n",
            " Average Recall     (AR) @[ IoU=0.50:0.95 | area=   all | maxDets=  1 ] = 0.329\n",
            " Average Recall     (AR) @[ IoU=0.50:0.95 | area=   all | maxDets= 10 ] = 0.823\n",
            " Average Recall     (AR) @[ IoU=0.50:0.95 | area=   all | maxDets=100 ] = 0.823\n",
            " Average Recall     (AR) @[ IoU=0.50:0.95 | area= small | maxDets=100 ] = -1.000\n",
            " Average Recall     (AR) @[ IoU=0.50:0.95 | area=medium | maxDets=100 ] = 0.743\n",
            " Average Recall     (AR) @[ IoU=0.50:0.95 | area= large | maxDets=100 ] = 0.830\n",
            "Epoch: [9]  [ 0/60]  eta: 0:00:55  lr: 0.000005  loss: 0.1635 (0.1635)  loss_classifier: 0.0330 (0.0330)  loss_box_reg: 0.0151 (0.0151)  loss_mask: 0.1063 (0.1063)  loss_objectness: 0.0002 (0.0002)  loss_rpn_box_reg: 0.0089 (0.0089)  time: 0.9308  data: 0.4728  max mem: 3596\n",
            "Epoch: [9]  [10/60]  eta: 0:00:20  lr: 0.000005  loss: 0.1630 (0.1691)  loss_classifier: 0.0251 (0.0286)  loss_box_reg: 0.0151 (0.0140)  loss_mask: 0.1063 (0.1170)  loss_objectness: 0.0005 (0.0012)  loss_rpn_box_reg: 0.0072 (0.0082)  time: 0.4159  data: 0.0469  max mem: 3596\n",
            "Epoch: [9]  [20/60]  eta: 0:00:15  lr: 0.000005  loss: 0.1596 (0.1640)  loss_classifier: 0.0222 (0.0251)  loss_box_reg: 0.0092 (0.0127)  loss_mask: 0.1143 (0.1175)  loss_objectness: 0.0004 (0.0008)  loss_rpn_box_reg: 0.0072 (0.0079)  time: 0.3563  data: 0.0050  max mem: 3596\n",
            "Epoch: [9]  [30/60]  eta: 0:00:11  lr: 0.000005  loss: 0.1489 (0.1575)  loss_classifier: 0.0204 (0.0246)  loss_box_reg: 0.0061 (0.0113)  loss_mask: 0.1084 (0.1136)  loss_objectness: 0.0002 (0.0007)  loss_rpn_box_reg: 0.0068 (0.0074)  time: 0.3457  data: 0.0059  max mem: 3596\n",
            "Epoch: [9]  [40/60]  eta: 0:00:07  lr: 0.000005  loss: 0.1478 (0.1571)  loss_classifier: 0.0217 (0.0246)  loss_box_reg: 0.0064 (0.0109)  loss_mask: 0.1028 (0.1133)  loss_objectness: 0.0004 (0.0010)  loss_rpn_box_reg: 0.0071 (0.0073)  time: 0.3597  data: 0.0060  max mem: 3596\n",
            "Epoch: [9]  [50/60]  eta: 0:00:03  lr: 0.000005  loss: 0.1583 (0.1629)  loss_classifier: 0.0271 (0.0262)  loss_box_reg: 0.0083 (0.0117)  loss_mask: 0.1085 (0.1164)  loss_objectness: 0.0006 (0.0009)  loss_rpn_box_reg: 0.0077 (0.0077)  time: 0.3801  data: 0.0059  max mem: 3596\n",
            "Epoch: [9]  [59/60]  eta: 0:00:00  lr: 0.000005  loss: 0.1583 (0.1630)  loss_classifier: 0.0253 (0.0258)  loss_box_reg: 0.0091 (0.0116)  loss_mask: 0.1192 (0.1169)  loss_objectness: 0.0006 (0.0011)  loss_rpn_box_reg: 0.0074 (0.0077)  time: 0.3631  data: 0.0056  max mem: 3596\n",
            "Epoch: [9] Total time: 0:00:22 (0.3710 s / it)\n",
            "creating index...\n",
            "index created!\n",
            "Test:  [ 0/34]  eta: 0:00:11  model_time: 0.0904 (0.0904)  evaluator_time: 0.0116 (0.0116)  time: 0.3488  data: 0.2441  max mem: 3596\n",
            "Test:  [33/34]  eta: 0:00:00  model_time: 0.0702 (0.0735)  evaluator_time: 0.0033 (0.0059)  time: 0.0825  data: 0.0029  max mem: 3596\n",
            "Test: Total time: 0:00:03 (0.0926 s / it)\n",
            "Averaged stats: model_time: 0.0702 (0.0735)  evaluator_time: 0.0033 (0.0059)\n",
            "Accumulating evaluation results...\n",
            "DONE (t=0.01s).\n",
            "Accumulating evaluation results...\n",
            "DONE (t=0.01s).\n",
            "IoU metric: bbox\n",
            " Average Precision  (AP) @[ IoU=0.50:0.95 | area=   all | maxDets=100 ] = 0.843\n",
            " Average Precision  (AP) @[ IoU=0.50      | area=   all | maxDets=100 ] = 0.990\n",
            " Average Precision  (AP) @[ IoU=0.75      | area=   all | maxDets=100 ] = 0.952\n",
            " Average Precision  (AP) @[ IoU=0.50:0.95 | area= small | maxDets=100 ] = -1.000\n",
            " Average Precision  (AP) @[ IoU=0.50:0.95 | area=medium | maxDets=100 ] = 0.650\n",
            " Average Precision  (AP) @[ IoU=0.50:0.95 | area= large | maxDets=100 ] = 0.854\n",
            " Average Recall     (AR) @[ IoU=0.50:0.95 | area=   all | maxDets=  1 ] = 0.360\n",
            " Average Recall     (AR) @[ IoU=0.50:0.95 | area=   all | maxDets= 10 ] = 0.884\n",
            " Average Recall     (AR) @[ IoU=0.50:0.95 | area=   all | maxDets=100 ] = 0.884\n",
            " Average Recall     (AR) @[ IoU=0.50:0.95 | area= small | maxDets=100 ] = -1.000\n",
            " Average Recall     (AR) @[ IoU=0.50:0.95 | area=medium | maxDets=100 ] = 0.800\n",
            " Average Recall     (AR) @[ IoU=0.50:0.95 | area= large | maxDets=100 ] = 0.891\n",
            "IoU metric: segm\n",
            " Average Precision  (AP) @[ IoU=0.50:0.95 | area=   all | maxDets=100 ] = 0.787\n",
            " Average Precision  (AP) @[ IoU=0.50      | area=   all | maxDets=100 ] = 0.990\n",
            " Average Precision  (AP) @[ IoU=0.75      | area=   all | maxDets=100 ] = 0.952\n",
            " Average Precision  (AP) @[ IoU=0.50:0.95 | area= small | maxDets=100 ] = -1.000\n",
            " Average Precision  (AP) @[ IoU=0.50:0.95 | area=medium | maxDets=100 ] = 0.614\n",
            " Average Precision  (AP) @[ IoU=0.50:0.95 | area= large | maxDets=100 ] = 0.797\n",
            " Average Recall     (AR) @[ IoU=0.50:0.95 | area=   all | maxDets=  1 ] = 0.329\n",
            " Average Recall     (AR) @[ IoU=0.50:0.95 | area=   all | maxDets= 10 ] = 0.824\n",
            " Average Recall     (AR) @[ IoU=0.50:0.95 | area=   all | maxDets=100 ] = 0.824\n",
            " Average Recall     (AR) @[ IoU=0.50:0.95 | area= small | maxDets=100 ] = -1.000\n",
            " Average Recall     (AR) @[ IoU=0.50:0.95 | area=medium | maxDets=100 ] = 0.743\n",
            " Average Recall     (AR) @[ IoU=0.50:0.95 | area= large | maxDets=100 ] = 0.831\n"
          ],
          "name": "stdout"
        }
      ]
    },
    {
      "cell_type": "markdown",
      "metadata": {
        "id": "mG6mwA6JP5If",
        "colab_type": "text"
      },
      "source": [
        "Predict"
      ]
    },
    {
      "cell_type": "code",
      "metadata": {
        "id": "j68mnOvbJAUj",
        "colab_type": "code",
        "outputId": "f564ac3a-651f-428c-de41-977b33d78984",
        "colab": {
          "base_uri": "https://localhost:8080/",
          "height": 649
        }
      },
      "source": [
        "model.eval()\n",
        "with torch.no_grad():\n",
        "  evaluate(model, data_loader_test, device=device)"
      ],
      "execution_count": 12,
      "outputs": [
        {
          "output_type": "stream",
          "text": [
            "creating index...\n",
            "index created!\n",
            "Test:  [ 0/17]  eta: 0:00:04  model_time: 0.0848 (0.0848)  evaluator_time: 0.0038 (0.0038)  time: 0.2846  data: 0.1944  max mem: 3596\n",
            "Test:  [16/17]  eta: 0:00:00  model_time: 0.0733 (0.0755)  evaluator_time: 0.0038 (0.0053)  time: 0.0961  data: 0.0139  max mem: 3596\n",
            "Test: Total time: 0:00:01 (0.0999 s / it)\n",
            "Averaged stats: model_time: 0.0733 (0.0755)  evaluator_time: 0.0038 (0.0053)\n",
            "Accumulating evaluation results...\n",
            "DONE (t=0.01s).\n",
            "Accumulating evaluation results...\n",
            "DONE (t=0.01s).\n",
            "IoU metric: bbox\n",
            " Average Precision  (AP) @[ IoU=0.50:0.95 | area=   all | maxDets=100 ] = 0.806\n",
            " Average Precision  (AP) @[ IoU=0.50      | area=   all | maxDets=100 ] = 0.996\n",
            " Average Precision  (AP) @[ IoU=0.75      | area=   all | maxDets=100 ] = 0.951\n",
            " Average Precision  (AP) @[ IoU=0.50:0.95 | area= small | maxDets=100 ] = -1.000\n",
            " Average Precision  (AP) @[ IoU=0.50:0.95 | area=medium | maxDets=100 ] = 0.601\n",
            " Average Precision  (AP) @[ IoU=0.50:0.95 | area= large | maxDets=100 ] = 0.814\n",
            " Average Recall     (AR) @[ IoU=0.50:0.95 | area=   all | maxDets=  1 ] = 0.411\n",
            " Average Recall     (AR) @[ IoU=0.50:0.95 | area=   all | maxDets= 10 ] = 0.846\n",
            " Average Recall     (AR) @[ IoU=0.50:0.95 | area=   all | maxDets=100 ] = 0.846\n",
            " Average Recall     (AR) @[ IoU=0.50:0.95 | area= small | maxDets=100 ] = -1.000\n",
            " Average Recall     (AR) @[ IoU=0.50:0.95 | area=medium | maxDets=100 ] = 0.750\n",
            " Average Recall     (AR) @[ IoU=0.50:0.95 | area= large | maxDets=100 ] = 0.851\n",
            "IoU metric: segm\n",
            " Average Precision  (AP) @[ IoU=0.50:0.95 | area=   all | maxDets=100 ] = 0.704\n",
            " Average Precision  (AP) @[ IoU=0.50      | area=   all | maxDets=100 ] = 0.996\n",
            " Average Precision  (AP) @[ IoU=0.75      | area=   all | maxDets=100 ] = 0.782\n",
            " Average Precision  (AP) @[ IoU=0.50:0.95 | area= small | maxDets=100 ] = -1.000\n",
            " Average Precision  (AP) @[ IoU=0.50:0.95 | area=medium | maxDets=100 ] = 0.399\n",
            " Average Precision  (AP) @[ IoU=0.50:0.95 | area= large | maxDets=100 ] = 0.714\n",
            " Average Recall     (AR) @[ IoU=0.50:0.95 | area=   all | maxDets=  1 ] = 0.376\n",
            " Average Recall     (AR) @[ IoU=0.50:0.95 | area=   all | maxDets= 10 ] = 0.751\n",
            " Average Recall     (AR) @[ IoU=0.50:0.95 | area=   all | maxDets=100 ] = 0.751\n",
            " Average Recall     (AR) @[ IoU=0.50:0.95 | area= small | maxDets=100 ] = -1.000\n",
            " Average Recall     (AR) @[ IoU=0.50:0.95 | area=medium | maxDets=100 ] = 0.650\n",
            " Average Recall     (AR) @[ IoU=0.50:0.95 | area= large | maxDets=100 ] = 0.757\n"
          ],
          "name": "stdout"
        }
      ]
    },
    {
      "cell_type": "code",
      "metadata": {
        "id": "yind-F3OP6Gk",
        "colab_type": "code",
        "outputId": "2b985396-56b2-4839-9160-7baa633ed6bc",
        "colab": {
          "base_uri": "https://localhost:8080/",
          "height": 306
        }
      },
      "source": [
        "import cv2\n",
        "from google.colab.patches import cv2_imshow\n",
        "\n",
        "\n",
        "for i in range(len(dataset_test)):\n",
        "  print(i)\n",
        "  img, _ = dataset_test[i]\n",
        "  model.eval()\n",
        "  with torch.no_grad():\n",
        "    prediction = model([img.to(device)])\n",
        "  img = prediction[0]['masks'][0, 0].mul(255).byte().cpu().numpy()\n",
        "  name = 'img_' + str(i) + '.jpg'\n",
        "  cv2.imwrite(name, img)\n"
      ],
      "execution_count": 13,
      "outputs": [
        {
          "output_type": "stream",
          "text": [
            "0\n",
            "1\n",
            "2\n",
            "3\n",
            "4\n",
            "5\n",
            "6\n",
            "7\n",
            "8\n",
            "9\n",
            "10\n",
            "11\n",
            "12\n",
            "13\n",
            "14\n",
            "15\n",
            "16\n"
          ],
          "name": "stdout"
        }
      ]
    },
    {
      "cell_type": "markdown",
      "metadata": {
        "id": "YGRNKSjGP_tL",
        "colab_type": "text"
      },
      "source": [
        "Results"
      ]
    },
    {
      "cell_type": "code",
      "metadata": {
        "id": "qWL6OOyUmVYL",
        "colab_type": "code",
        "colab": {
          "base_uri": "https://localhost:8080/",
          "height": 401
        },
        "outputId": "f6c1a2be-6fbd-4285-b782-2fe8678a49bc"
      },
      "source": [
        "# sample results\n",
        "import cv2\n",
        "from google.colab.patches import cv2_imshow\n",
        "img = prediction[0]['masks'][0, 0].mul(255).byte().cpu().numpy()\n",
        "cv2_imshow(img)"
      ],
      "execution_count": 14,
      "outputs": [
        {
          "output_type": "display_data",
          "data": {
            "image/png": "[encoded data removed]",
            "text/plain": [
              "<PIL.Image.Image image mode=L size=409x384 at 0x7FC66EB3E940>"
            ]
          },
          "metadata": {
            "tags": []
          }
        }
      ]
    },
    {
      "cell_type": "code",
      "metadata": {
        "id": "k_CrEzUIpFBZ",
        "colab_type": "code",
        "colab": {}
      },
      "source": [
        "# see output_pennfudan for the other output picture"
      ],
      "execution_count": 0,
      "outputs": []
    }
  ]
}