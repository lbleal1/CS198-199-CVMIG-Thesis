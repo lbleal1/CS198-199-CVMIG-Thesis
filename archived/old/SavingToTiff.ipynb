{
 "cells": [
  {
   "cell_type": "code",
   "execution_count": 56,
   "metadata": {},
   "outputs": [],
   "source": [
    "import cv2\n",
    "import numpy\n",
    "import matplotlib.pyplot as plt\n",
    "%matplotlib inline\n",
    "\n",
    "img= cv2.imread('0_10378780_15.tif')\n",
    "array = cv2.cvtColor(img, cv2.COLOR_BGR2GRAY)\n"
   ]
  },
  {
   "cell_type": "code",
   "execution_count": 57,
   "metadata": {},
   "outputs": [
    {
     "data": {
      "text/plain": [
       "<matplotlib.image.AxesImage at 0x7fa3d60e73c8>"
      ]
     },
     "execution_count": 57,
     "metadata": {},
     "output_type": "execute_result"
    },
    {
     "data": {
      "image/png": "[encoded data removed]",
      "text/plain": [
       "<Figure size 432x288 with 1 Axes>"
      ]
     },
     "metadata": {
      "needs_background": "light"
     },
     "output_type": "display_data"
    }
   ],
   "source": [
    "plt.imshow(array)"
   ]
  },
  {
   "cell_type": "code",
   "execution_count": 58,
   "metadata": {},
   "outputs": [
    {
     "data": {
      "text/plain": [
       "0"
      ]
     },
     "execution_count": 58,
     "metadata": {},
     "output_type": "execute_result"
    }
   ],
   "source": [
    "array.min()"
   ]
  },
  {
   "cell_type": "code",
   "execution_count": 59,
   "metadata": {},
   "outputs": [],
   "source": [
    "import numpy as np\n",
    "from osgeo import gdal\n",
    "from osgeo import gdal_array\n",
    "from osgeo import osr\n",
    "import matplotlib.pylab as plt\n"
   ]
  },
  {
   "cell_type": "code",
   "execution_count": 60,
   "metadata": {},
   "outputs": [],
   "source": [
    "# Open tif file\n",
    "ds = gdal.Open('0_10378780_15.tiff')\n",
    "# GDAL affine transform parameters, \n",
    "#According to gdal documentation xoff/yoff are image left corner, \n",
    "#a/e are pixel wight/height and b/d is rotation and is zero if image is north up. \n",
    "# unravel GDAL affine transform parameters\n",
    "c, a, b, f, d, e = ds.GetGeoTransform()\n",
    "\n",
    "def pixel2coord(col, row):\n",
    "    \"\"\"Returns global coordinates to pixel center using base-0 raster index\"\"\"\n",
    "    xp = (a) * col + b * row + c \n",
    "    yp = (d) * col + e * row + f\n",
    "    return(xp, yp)\n",
    "\n",
    "# get columns and rows of your image from gdalinfo\n",
    "rows, colms = np.shape(array)\n",
    "\n",
    "lat = np.empty(shape=(rows,colms))\n",
    "lat.fill(0)\n",
    "\n",
    "lon = np.empty(shape=(rows,colms))\n",
    "lon.fill(0)\n",
    "\n",
    "if __name__ == \"__main__\":\n",
    " for row in  range(0,rows):\n",
    "    for col in  range(0,colms): \n",
    "        lon[row][col], lat[row][col] = pixel2coord(col,row)"
   ]
  },
  {
   "cell_type": "code",
   "execution_count": 61,
   "metadata": {},
   "outputs": [],
   "source": [
    "# For each pixel I know it's latitude and longitude.\n",
    "# As you'll see below you only really need the coordinates of\n",
    "# one corner, and the resolution of the file.\n",
    "\n",
    "xmin,ymin,xmax,ymax = [lon.min(),lat.min(),lon.max(),lat.max()]\n",
    "nrows,ncols = np.shape(array)\n",
    "xres = (xmax-xmin)/float(ncols)\n",
    "yres = (ymax-ymin)/float(nrows)\n",
    "geotransform=(xmin,xres,0,ymax,0, -yres)   \n",
    "# That's (top left x, w-e pixel resolution, rotation (0 if North is up), \n",
    "#         top left y, rotation (0 if North is up), n-s pixel resolution)\n",
    "# I don't know why rotation is in twice???\n",
    "\n",
    "output_raster = gdal.GetDriverByName('GTiff').Create('myraster.tif',ncols, nrows, 1 ,gdal.GDT_Float32)  # Open the file\n",
    "output_raster.SetGeoTransform(geotransform)  # Specify its coordinates\n",
    "srs = osr.SpatialReference()                 # Establish its coordinate encoding\n",
    "srs.ImportFromEPSG(4326)                     # This one specifies WGS84 lat long.\n",
    "                                             # Anyone know how to specify the \n",
    "                                             # IAU2000:49900 Mars encoding?\n",
    "output_raster.SetProjection( srs.ExportToWkt() )   # Exports the coordinate system \n",
    "                                                   # to the file\n",
    "output_raster.GetRasterBand(1).WriteArray(array)   # Writes my array to the raster\n",
    "\n",
    "output_raster.FlushCache()"
   ]
  },
  {
   "cell_type": "code",
   "execution_count": null,
   "metadata": {},
   "outputs": [],
   "source": []
  }
 ],
 "metadata": {
  "kernelspec": {
   "display_name": "Python 3",
   "language": "python",
   "name": "python3"
  },
  "language_info": {
   "codemirror_mode": {
    "name": "ipython",
    "version": 3
   },
   "file_extension": ".py",
   "mimetype": "text/x-python",
   "name": "python",
   "nbconvert_exporter": "python",
   "pygments_lexer": "ipython3",
   "version": "3.6.9"
  }
 },
 "nbformat": 4,
 "nbformat_minor": 4
}
