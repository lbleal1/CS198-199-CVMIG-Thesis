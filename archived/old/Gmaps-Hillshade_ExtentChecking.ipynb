{
 "cells": [
  {
   "cell_type": "code",
   "execution_count": 41,
   "metadata": {},
   "outputs": [],
   "source": [
    "from osgeo import gdal,ogr,osr\n",
    "import math\n",
    "\n",
    "def round_up(n, decimals=0):\n",
    "    multiplier = 10 ** decimals\n",
    "    return math.ceil(n * multiplier) / multiplier\n",
    "\n",
    "def GetExtent(gt,cols,rows):\n",
    "    ''' Return list of corner coordinates from a geotransform\n",
    "\n",
    "        @type gt:   C{tuple/list}\n",
    "        @param gt: geotransform\n",
    "        @type cols:   C{int}\n",
    "        @param cols: number of columns in the dataset\n",
    "        @type rows:   C{int}\n",
    "        @param rows: number of rows in the dataset\n",
    "        @rtype:    C{[float,...,float]}\n",
    "        @return:   coordinates of each corner\n",
    "    '''\n",
    "    ext=[]\n",
    "    xarr=[0,cols]\n",
    "    yarr=[0,rows]\n",
    "\n",
    "    for px in xarr:\n",
    "        for py in yarr:\n",
    "            x=gt[0]+(px*gt[1])+(py*gt[2])\n",
    "            y=gt[3]+(px*gt[4])+(py*gt[5])\n",
    "            x = round_up(x, 3)\n",
    "            y = round_up(y, 3)\n",
    "            ext.append([x,y])\n",
    "            #print(x,y)\n",
    "        yarr.reverse()\n",
    "    return ext\n",
    "\n",
    "def ReprojectCoords(coords,src_srs,tgt_srs):\n",
    "    ''' Reproject a list of x,y coordinates.\n",
    "\n",
    "        @type geom:     C{tuple/list}\n",
    "        @param geom:    List of [[x,y],...[x,y]] coordinates\n",
    "        @type src_srs:  C{osr.SpatialReference}\n",
    "        @param src_srs: OSR SpatialReference object\n",
    "        @type tgt_srs:  C{osr.SpatialReference}\n",
    "        @param tgt_srs: OSR SpatialReference object\n",
    "        @rtype:         C{tuple/list}\n",
    "        @return:        List of transformed [[x,y],...[x,y]] coordinates\n",
    "    '''\n",
    "    trans_coords=[]\n",
    "    transform = osr.CoordinateTransformation( src_srs, tgt_srs)\n",
    "    for x,y in coords:\n",
    "        x,y,z = transform.TransformPoint(x,y)\n",
    "        trans_coords.append([x,y])\n",
    "    return trans_coords\n",
    "\n",
    "def rasterExtent(file_path):\n",
    "    raster=file_path\n",
    "    ds=gdal.Open(raster)\n",
    "\n",
    "    gt=ds.GetGeoTransform()\n",
    "    cols = ds.RasterXSize\n",
    "    rows = ds.RasterYSize\n",
    "    ext=GetExtent(gt,cols,rows)\n",
    "    return ext\n",
    "\n",
    "#ext1 = rasterExtent('/home/lois/Desktop/h_tile_3600_82800.tif')\n",
    "#ext2 = rasterExtent('/home/lois/Desktop/tile_3600_82800.tif')\n",
    "#print(ext1==ext2)\n",
    "#src_srs=osr.SpatialReference()\n",
    "#src_srs.ImportFromWkt(ds.GetProjection())\n",
    "#tgt_srs=osr.SpatialReference()\n",
    "#tgt_srs.ImportFromEPSG(4326)\n",
    "#tgt_srs = src_srs.CloneGeogCS()\n",
    "\n",
    "#geo_ext=ReprojectCoords(ext,src_srs,tgt_srs)\n"
   ]
  },
  {
   "cell_type": "code",
   "execution_count": 43,
   "metadata": {},
   "outputs": [
    {
     "data": {
      "text/plain": [
       "True"
      ]
     },
     "execution_count": 43,
     "metadata": {},
     "output_type": "execute_result"
    }
   ],
   "source": [
    "import os\n",
    "path = '/media/lois/Seagate Bac/road_building_extraction/tiled outputs'\n",
    "\n",
    "ext1 = []\n",
    "ext2 = []\n",
    "for filename in sorted(os.listdir(path+'/tiled hillshade')):\n",
    "    ext1.append(rasterExtent(path +'/tiled hillshade/' + filename))\n",
    "    ext2.append(rasterExtent(path +'/tiled gmaps2/' + filename))\n",
    "\n",
    "ext1 == ext2"
   ]
  },
  {
   "cell_type": "code",
   "execution_count": null,
   "metadata": {},
   "outputs": [],
   "source": []
  }
 ],
 "metadata": {
  "kernelspec": {
   "display_name": "Python 3",
   "language": "python",
   "name": "python3"
  },
  "language_info": {
   "codemirror_mode": {
    "name": "ipython",
    "version": 3
   },
   "file_extension": ".py",
   "mimetype": "text/x-python",
   "name": "python",
   "nbconvert_exporter": "python",
   "pygments_lexer": "ipython3",
   "version": "3.6.9"
  }
 },
 "nbformat": 4,
 "nbformat_minor": 4
}
